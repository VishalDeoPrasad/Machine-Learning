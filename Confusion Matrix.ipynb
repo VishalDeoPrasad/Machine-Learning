{
 "cells": [
  {
   "cell_type": "code",
   "execution_count": null,
   "id": "88addf0c-6e9d-44a5-9426-bd01f568cdb8",
   "metadata": {},
   "outputs": [],
   "source": [
    "## Data \n",
    "https://drive.google.com/uc?id=1O5fQvg0TsjH5uRlIHNxt-WByTg4SRfwI"
   ]
  },
  {
   "cell_type": "code",
   "execution_count": 19,
   "id": "6da7d620-713a-4b96-8e9c-6828634b319a",
   "metadata": {},
   "outputs": [],
   "source": [
    "import pandas as pd\n",
    "col_names = ['pregnant', 'glucose', 'bp', 'skin', 'insulin', 'bmi', 'pedigree', 'age', 'label']\n",
    "df = pd.read_csv(r'C:\\Users\\visha\\OneDrive\\Scaler Academy\\Datasets\\pima-indians-diabetes.csv', header=1, names=col_names)"
   ]
  },
  {
   "cell_type": "code",
   "execution_count": 20,
   "id": "9a2a4327-2830-4a9e-8e02-6d84fc64b3d3",
   "metadata": {},
   "outputs": [
    {
     "data": {
      "text/html": [
       "<div>\n",
       "<style scoped>\n",
       "    .dataframe tbody tr th:only-of-type {\n",
       "        vertical-align: middle;\n",
       "    }\n",
       "\n",
       "    .dataframe tbody tr th {\n",
       "        vertical-align: top;\n",
       "    }\n",
       "\n",
       "    .dataframe thead th {\n",
       "        text-align: right;\n",
       "    }\n",
       "</style>\n",
       "<table border=\"1\" class=\"dataframe\">\n",
       "  <thead>\n",
       "    <tr style=\"text-align: right;\">\n",
       "      <th></th>\n",
       "      <th>pregnant</th>\n",
       "      <th>glucose</th>\n",
       "      <th>bp</th>\n",
       "      <th>skin</th>\n",
       "      <th>insulin</th>\n",
       "      <th>bmi</th>\n",
       "      <th>pedigree</th>\n",
       "      <th>age</th>\n",
       "      <th>label</th>\n",
       "    </tr>\n",
       "  </thead>\n",
       "  <tbody>\n",
       "    <tr>\n",
       "      <th>0</th>\n",
       "      <td>1</td>\n",
       "      <td>85</td>\n",
       "      <td>66</td>\n",
       "      <td>29</td>\n",
       "      <td>0</td>\n",
       "      <td>26.6</td>\n",
       "      <td>0.351</td>\n",
       "      <td>31</td>\n",
       "      <td>0</td>\n",
       "    </tr>\n",
       "    <tr>\n",
       "      <th>1</th>\n",
       "      <td>8</td>\n",
       "      <td>183</td>\n",
       "      <td>64</td>\n",
       "      <td>0</td>\n",
       "      <td>0</td>\n",
       "      <td>23.3</td>\n",
       "      <td>0.672</td>\n",
       "      <td>32</td>\n",
       "      <td>1</td>\n",
       "    </tr>\n",
       "    <tr>\n",
       "      <th>2</th>\n",
       "      <td>1</td>\n",
       "      <td>89</td>\n",
       "      <td>66</td>\n",
       "      <td>23</td>\n",
       "      <td>94</td>\n",
       "      <td>28.1</td>\n",
       "      <td>0.167</td>\n",
       "      <td>21</td>\n",
       "      <td>0</td>\n",
       "    </tr>\n",
       "    <tr>\n",
       "      <th>3</th>\n",
       "      <td>0</td>\n",
       "      <td>137</td>\n",
       "      <td>40</td>\n",
       "      <td>35</td>\n",
       "      <td>168</td>\n",
       "      <td>43.1</td>\n",
       "      <td>2.288</td>\n",
       "      <td>33</td>\n",
       "      <td>1</td>\n",
       "    </tr>\n",
       "  </tbody>\n",
       "</table>\n",
       "</div>"
      ],
      "text/plain": [
       "   pregnant  glucose  bp  skin  insulin   bmi  pedigree  age  label\n",
       "0         1       85  66    29        0  26.6     0.351   31      0\n",
       "1         8      183  64     0        0  23.3     0.672   32      1\n",
       "2         1       89  66    23       94  28.1     0.167   21      0\n",
       "3         0      137  40    35      168  43.1     2.288   33      1"
      ]
     },
     "execution_count": 20,
     "metadata": {},
     "output_type": "execute_result"
    }
   ],
   "source": [
    "df.head(4)"
   ]
  },
  {
   "cell_type": "code",
   "execution_count": 23,
   "id": "484e0079-d1bd-45b7-9ab4-4d3dc4556a4e",
   "metadata": {},
   "outputs": [],
   "source": [
    "# define dependent(Y) and Independent(X) Varibles\n",
    "feature_cols = ['pregnant','glucose', 'bp', 'skin', 'insulin', 'bmi', 'age']\n",
    "X = df[feature_cols]\n",
    "y = df.label"
   ]
  },
  {
   "cell_type": "code",
   "execution_count": 24,
   "id": "3b79802c-3615-400a-b72e-8501ff4fb95c",
   "metadata": {},
   "outputs": [],
   "source": [
    "from sklearn.model_selection import train_test_split\n",
    "X_train, X_test, y_train, y_test = train_test_split(X, y ,test_size=0.2, random_state=1)"
   ]
  },
  {
   "cell_type": "code",
   "execution_count": 26,
   "id": "31a8ba80-17e2-41ea-a3f6-9d225d061332",
   "metadata": {},
   "outputs": [
    {
     "data": {
      "text/html": [
       "<style>#sk-container-id-2 {color: black;background-color: white;}#sk-container-id-2 pre{padding: 0;}#sk-container-id-2 div.sk-toggleable {background-color: white;}#sk-container-id-2 label.sk-toggleable__label {cursor: pointer;display: block;width: 100%;margin-bottom: 0;padding: 0.3em;box-sizing: border-box;text-align: center;}#sk-container-id-2 label.sk-toggleable__label-arrow:before {content: \"▸\";float: left;margin-right: 0.25em;color: #696969;}#sk-container-id-2 label.sk-toggleable__label-arrow:hover:before {color: black;}#sk-container-id-2 div.sk-estimator:hover label.sk-toggleable__label-arrow:before {color: black;}#sk-container-id-2 div.sk-toggleable__content {max-height: 0;max-width: 0;overflow: hidden;text-align: left;background-color: #f0f8ff;}#sk-container-id-2 div.sk-toggleable__content pre {margin: 0.2em;color: black;border-radius: 0.25em;background-color: #f0f8ff;}#sk-container-id-2 input.sk-toggleable__control:checked~div.sk-toggleable__content {max-height: 200px;max-width: 100%;overflow: auto;}#sk-container-id-2 input.sk-toggleable__control:checked~label.sk-toggleable__label-arrow:before {content: \"▾\";}#sk-container-id-2 div.sk-estimator input.sk-toggleable__control:checked~label.sk-toggleable__label {background-color: #d4ebff;}#sk-container-id-2 div.sk-label input.sk-toggleable__control:checked~label.sk-toggleable__label {background-color: #d4ebff;}#sk-container-id-2 input.sk-hidden--visually {border: 0;clip: rect(1px 1px 1px 1px);clip: rect(1px, 1px, 1px, 1px);height: 1px;margin: -1px;overflow: hidden;padding: 0;position: absolute;width: 1px;}#sk-container-id-2 div.sk-estimator {font-family: monospace;background-color: #f0f8ff;border: 1px dotted black;border-radius: 0.25em;box-sizing: border-box;margin-bottom: 0.5em;}#sk-container-id-2 div.sk-estimator:hover {background-color: #d4ebff;}#sk-container-id-2 div.sk-parallel-item::after {content: \"\";width: 100%;border-bottom: 1px solid gray;flex-grow: 1;}#sk-container-id-2 div.sk-label:hover label.sk-toggleable__label {background-color: #d4ebff;}#sk-container-id-2 div.sk-serial::before {content: \"\";position: absolute;border-left: 1px solid gray;box-sizing: border-box;top: 0;bottom: 0;left: 50%;z-index: 0;}#sk-container-id-2 div.sk-serial {display: flex;flex-direction: column;align-items: center;background-color: white;padding-right: 0.2em;padding-left: 0.2em;position: relative;}#sk-container-id-2 div.sk-item {position: relative;z-index: 1;}#sk-container-id-2 div.sk-parallel {display: flex;align-items: stretch;justify-content: center;background-color: white;position: relative;}#sk-container-id-2 div.sk-item::before, #sk-container-id-2 div.sk-parallel-item::before {content: \"\";position: absolute;border-left: 1px solid gray;box-sizing: border-box;top: 0;bottom: 0;left: 50%;z-index: -1;}#sk-container-id-2 div.sk-parallel-item {display: flex;flex-direction: column;z-index: 1;position: relative;background-color: white;}#sk-container-id-2 div.sk-parallel-item:first-child::after {align-self: flex-end;width: 50%;}#sk-container-id-2 div.sk-parallel-item:last-child::after {align-self: flex-start;width: 50%;}#sk-container-id-2 div.sk-parallel-item:only-child::after {width: 0;}#sk-container-id-2 div.sk-dashed-wrapped {border: 1px dashed gray;margin: 0 0.4em 0.5em 0.4em;box-sizing: border-box;padding-bottom: 0.4em;background-color: white;}#sk-container-id-2 div.sk-label label {font-family: monospace;font-weight: bold;display: inline-block;line-height: 1.2em;}#sk-container-id-2 div.sk-label-container {text-align: center;}#sk-container-id-2 div.sk-container {/* jupyter's `normalize.less` sets `[hidden] { display: none; }` but bootstrap.min.css set `[hidden] { display: none !important; }` so we also need the `!important` here to be able to override the default hidden behavior on the sphinx rendered scikit-learn.org. See: https://github.com/scikit-learn/scikit-learn/issues/21755 */display: inline-block !important;position: relative;}#sk-container-id-2 div.sk-text-repr-fallback {display: none;}</style><div id=\"sk-container-id-2\" class=\"sk-top-container\"><div class=\"sk-text-repr-fallback\"><pre>LogisticRegression()</pre><b>In a Jupyter environment, please rerun this cell to show the HTML representation or trust the notebook. <br />On GitHub, the HTML representation is unable to render, please try loading this page with nbviewer.org.</b></div><div class=\"sk-container\" hidden><div class=\"sk-item\"><div class=\"sk-estimator sk-toggleable\"><input class=\"sk-toggleable__control sk-hidden--visually\" id=\"sk-estimator-id-2\" type=\"checkbox\" checked><label for=\"sk-estimator-id-2\" class=\"sk-toggleable__label sk-toggleable__label-arrow\">LogisticRegression</label><div class=\"sk-toggleable__content\"><pre>LogisticRegression()</pre></div></div></div></div></div>"
      ],
      "text/plain": [
       "LogisticRegression()"
      ]
     },
     "execution_count": 26,
     "metadata": {},
     "output_type": "execute_result"
    }
   ],
   "source": [
    "# Build and Train a logistic regression model on the training set(X_train, y_train)\n",
    "from sklearn.linear_model import LogisticRegression\n",
    "logreg = LogisticRegression()\n",
    "logreg.fit(X_train, y_train)"
   ]
  },
  {
   "cell_type": "code",
   "execution_count": 29,
   "id": "c7eb451a-5aff-4c65-90f5-3071b4baa76f",
   "metadata": {},
   "outputs": [
    {
     "data": {
      "text/plain": [
       "array([1, 0, 0, 0, 0, 0, 0, 0, 0, 0, 0, 0, 0, 0, 0, 0, 0, 0, 0, 0, 0, 0,\n",
       "       0, 0, 0, 0, 0, 0, 0, 1, 1, 0, 0, 1, 0, 1, 0, 1, 1, 0, 0, 0, 0, 0,\n",
       "       0, 0, 0, 0, 0, 0, 0, 0, 0, 1, 0, 0, 0, 1, 0, 1, 0, 1, 0, 0, 0, 0,\n",
       "       0, 0, 0, 1, 0, 0, 1, 0, 1, 1, 0, 0, 0, 0, 0, 0, 1, 0, 0, 0, 1, 1,\n",
       "       0, 0, 0, 0, 0, 0, 1, 0, 0, 0, 0, 0, 1, 0, 0, 0, 0, 0, 0, 0, 0, 0,\n",
       "       0, 1, 0, 1, 0, 1, 0, 0, 0, 0, 0, 0, 0, 1, 0, 0, 1, 0, 0, 0, 0, 1,\n",
       "       0, 0, 1, 0, 1, 0, 0, 0, 1, 0, 0, 0, 0, 0, 0, 0, 0, 0, 1, 1, 0, 0],\n",
       "      dtype=int64)"
      ]
     },
     "execution_count": 29,
     "metadata": {},
     "output_type": "execute_result"
    }
   ],
   "source": [
    "# make class predictions On the testing set\n",
    "y_pred = logreg.predict(X_test)\n",
    "y_pred"
   ]
  },
  {
   "cell_type": "code",
   "execution_count": 31,
   "id": "4bc43e5f-e91f-4f3c-8d94-459a6851b90e",
   "metadata": {},
   "outputs": [
    {
     "name": "stdout",
     "output_type": "stream",
     "text": [
      "0.7467532467532467\n"
     ]
    }
   ],
   "source": [
    "# calculate accuracy on test data\n",
    "# Our model predicted the result now we need to compair with our actural true\n",
    "from sklearn import metrics\n",
    "print(metrics.accuracy_score(y_test, y_pred))"
   ]
  },
  {
   "cell_type": "markdown",
   "id": "cba8bb50",
   "metadata": {},
   "source": []
  },
  {
   "cell_type": "code",
   "execution_count": 11,
   "id": "f660f58c-02f8-4f22-8f7a-24fa49522a25",
   "metadata": {},
   "outputs": [
    {
     "data": {
      "image/png": "[encoded data removed]",
      "text/plain": [
       "<Figure size 432x288 with 1 Axes>"
      ]
     },
     "metadata": {
      "needs_background": "light"
     },
     "output_type": "display_data"
    }
   ],
   "source": [
    "import matplotlib.pyplot as plt\n",
    "import numpy as np\n",
    "\n",
    "cm = metrics.confusion_matrix(y_test, y_pred)\n",
    "plt.clf()\n",
    "plt.imshow(cm, interpolation='nearest', cmap=plt.cm.Wistia)\n",
    "classNames = ['Non_diabetic','Diabetic']\n",
    "plt.title('Confusion Matrix - Test Data')\n",
    "plt.ylabel('Actual label')\n",
    "plt.xlabel('Predicted label')\n",
    "tick_marks = np.arange(len(classNames))\n",
    "plt.xticks(tick_marks, classNames, rotation=45)\n",
    "plt.yticks(tick_marks, classNames)\n",
    "s = [['TN','FP'], ['FN', 'TP']]\n",
    " \n",
    "for i in range(2):\n",
    "    for j in range(2):\n",
    "        plt.text(j,i, str(s[i][j])+\" = \"+str(cm[i][j]))\n",
    "plt.show()"
   ]
  },
  {
   "cell_type": "code",
   "execution_count": 12,
   "id": "0e36a667-62c3-4548-a8e0-769aee6cbb55",
   "metadata": {},
   "outputs": [],
   "source": [
    "from sklearn.metrics import precision_score, recall_score"
   ]
  },
  {
   "cell_type": "code",
   "execution_count": 13,
   "id": "d592e580-3311-4c0b-83d5-b015589ce94c",
   "metadata": {},
   "outputs": [
    {
     "data": {
      "text/plain": [
       "0.6129032258064516"
      ]
     },
     "execution_count": 13,
     "metadata": {},
     "output_type": "execute_result"
    }
   ],
   "source": [
    "precision_score(y_test, y_pred_class)"
   ]
  },
  {
   "cell_type": "code",
   "execution_count": 14,
   "id": "60768443-a099-49a3-b46f-3d6b6c5c2b27",
   "metadata": {},
   "outputs": [
    {
     "data": {
      "text/plain": [
       "0.41304347826086957"
      ]
     },
     "execution_count": 14,
     "metadata": {},
     "output_type": "execute_result"
    }
   ],
   "source": [
    "recall_score(y_test, y_pred_class)"
   ]
  },
  {
   "cell_type": "code",
   "execution_count": 15,
   "id": "200bea09-c0c1-49cf-a01b-f239a91c62a9",
   "metadata": {},
   "outputs": [
    {
     "data": {
      "text/plain": [
       "0.49039215686274507"
      ]
     },
     "execution_count": 15,
     "metadata": {},
     "output_type": "execute_result"
    }
   ],
   "source": [
    "2*0.61*0.41/(.61+0.41)"
   ]
  },
  {
   "cell_type": "code",
   "execution_count": 17,
   "id": "f10c44eb-36e9-4479-af1f-8445b14f08e4",
   "metadata": {},
   "outputs": [
    {
     "data": {
      "text/plain": [
       "array([[0.36700084, 0.63299916],\n",
       "       [0.9307545 , 0.0692455 ],\n",
       "       [0.5026926 , 0.4973074 ],\n",
       "       [0.94097385, 0.05902615],\n",
       "       [0.86249647, 0.13750353],\n",
       "       [0.52142759, 0.47857241],\n",
       "       [0.9515985 , 0.0484015 ],\n",
       "       [0.71190149, 0.28809851],\n",
       "       [0.67785276, 0.32214724],\n",
       "       [0.99020456, 0.00979544],\n",
       "       [0.54019351, 0.45980649],\n",
       "       [0.99621695, 0.00378305],\n",
       "       [0.93725765, 0.06274235],\n",
       "       [0.89327553, 0.10672447],\n",
       "       [0.91583518, 0.08416482],\n",
       "       [0.71393939, 0.28606061],\n",
       "       [0.6512335 , 0.3487665 ],\n",
       "       [0.69193868, 0.30806132],\n",
       "       [0.90299675, 0.09700325],\n",
       "       [0.88747439, 0.11252561],\n",
       "       [0.99015647, 0.00984353],\n",
       "       [0.54965943, 0.45034057],\n",
       "       [0.5794186 , 0.4205814 ],\n",
       "       [0.68318979, 0.31681021],\n",
       "       [0.88879919, 0.11120081],\n",
       "       [0.93025028, 0.06974972],\n",
       "       [0.95275583, 0.04724417],\n",
       "       [0.9662259 , 0.0337741 ],\n",
       "       [0.93214949, 0.06785051],\n",
       "       [0.08282751, 0.91717249],\n",
       "       [0.49831112, 0.50168888],\n",
       "       [0.9316074 , 0.0683926 ],\n",
       "       [0.67780454, 0.32219546],\n",
       "       [0.25070859, 0.74929141],\n",
       "       [0.9558705 , 0.0441295 ],\n",
       "       [0.31340643, 0.68659357],\n",
       "       [0.93107609, 0.06892391],\n",
       "       [0.43083544, 0.56916456],\n",
       "       [0.21765186, 0.78234814],\n",
       "       [0.78830448, 0.21169552],\n",
       "       [0.65270551, 0.34729449],\n",
       "       [0.77890201, 0.22109799],\n",
       "       [0.59719888, 0.40280112],\n",
       "       [0.79906277, 0.20093723],\n",
       "       [0.9206609 , 0.0793391 ],\n",
       "       [0.72461921, 0.27538079],\n",
       "       [0.96357846, 0.03642154],\n",
       "       [0.83204905, 0.16795095],\n",
       "       [0.93452769, 0.06547231],\n",
       "       [0.56394655, 0.43605345],\n",
       "       [0.89549085, 0.10450915],\n",
       "       [0.86885062, 0.13114938],\n",
       "       [0.8577336 , 0.1422664 ],\n",
       "       [0.21297791, 0.78702209],\n",
       "       [0.75208253, 0.24791747],\n",
       "       [0.91041722, 0.08958278],\n",
       "       [0.8944151 , 0.1055849 ],\n",
       "       [0.21901087, 0.78098913],\n",
       "       [0.76147012, 0.23852988],\n",
       "       [0.45878216, 0.54121784],\n",
       "       [0.60662753, 0.39337247],\n",
       "       [0.42163877, 0.57836123],\n",
       "       [0.9370025 , 0.0629975 ],\n",
       "       [0.56138257, 0.43861743],\n",
       "       [0.76434065, 0.23565935],\n",
       "       [0.88345226, 0.11654774],\n",
       "       [0.72335269, 0.27664731],\n",
       "       [0.62798463, 0.37201537],\n",
       "       [0.52099816, 0.47900184],\n",
       "       [0.41176424, 0.58823576],\n",
       "       [0.75218128, 0.24781872],\n",
       "       [0.52357819, 0.47642181],\n",
       "       [0.43723324, 0.56276676],\n",
       "       [0.98387166, 0.01612834],\n",
       "       [0.29307379, 0.70692621],\n",
       "       [0.2543111 , 0.7456889 ],\n",
       "       [0.80579386, 0.19420614],\n",
       "       [0.85722422, 0.14277578],\n",
       "       [0.95210425, 0.04789575],\n",
       "       [0.92102714, 0.07897286],\n",
       "       [0.84230777, 0.15769223],\n",
       "       [0.69871678, 0.30128322],\n",
       "       [0.11938206, 0.88061794],\n",
       "       [0.68064591, 0.31935409],\n",
       "       [0.79850517, 0.20149483],\n",
       "       [0.88534287, 0.11465713],\n",
       "       [0.38639517, 0.61360483],\n",
       "       [0.1877245 , 0.8122755 ],\n",
       "       [0.87588256, 0.12411744],\n",
       "       [0.82049442, 0.17950558],\n",
       "       [0.87614194, 0.12385806],\n",
       "       [0.92364782, 0.07635218],\n",
       "       [0.99764604, 0.00235396],\n",
       "       [0.89307245, 0.10692755],\n",
       "       [0.20290694, 0.79709306],\n",
       "       [0.97202279, 0.02797721],\n",
       "       [0.91776301, 0.08223699],\n",
       "       [0.62816737, 0.37183263],\n",
       "       [0.69561521, 0.30438479],\n",
       "       [0.87923838, 0.12076162],\n",
       "       [0.46683269, 0.53316731],\n",
       "       [0.66175168, 0.33824832],\n",
       "       [0.89375694, 0.10624306],\n",
       "       [0.92223408, 0.07776592],\n",
       "       [0.86445197, 0.13554803],\n",
       "       [0.79448409, 0.20551591],\n",
       "       [0.9783051 , 0.0216949 ],\n",
       "       [0.94083295, 0.05916705],\n",
       "       [0.80350469, 0.19649531],\n",
       "       [0.67582659, 0.32417341],\n",
       "       [0.62324853, 0.37675147],\n",
       "       [0.36401294, 0.63598706],\n",
       "       [0.90335673, 0.09664327],\n",
       "       [0.49711007, 0.50288993],\n",
       "       [0.75227421, 0.24772579],\n",
       "       [0.42418791, 0.57581209],\n",
       "       [0.87189293, 0.12810707],\n",
       "       [0.6118612 , 0.3881388 ],\n",
       "       [0.68314906, 0.31685094],\n",
       "       [0.70180069, 0.29819931],\n",
       "       [0.81280018, 0.18719982],\n",
       "       [0.84526051, 0.15473949],\n",
       "       [0.68526476, 0.31473524],\n",
       "       [0.39669573, 0.60330427],\n",
       "       [0.80808744, 0.19191256],\n",
       "       [0.81747847, 0.18252153],\n",
       "       [0.35716932, 0.64283068],\n",
       "       [0.64573907, 0.35426093],\n",
       "       [0.94371416, 0.05628584],\n",
       "       [0.95243537, 0.04756463],\n",
       "       [0.62815847, 0.37184153],\n",
       "       [0.40752779, 0.59247221],\n",
       "       [0.60403525, 0.39596475],\n",
       "       [0.60532449, 0.39467551],\n",
       "       [0.31321802, 0.68678198],\n",
       "       [0.66208322, 0.33791678],\n",
       "       [0.30100571, 0.69899429],\n",
       "       [0.87483765, 0.12516235],\n",
       "       [0.8470299 , 0.1529701 ],\n",
       "       [0.93301212, 0.06698788],\n",
       "       [0.09949874, 0.90050126],\n",
       "       [0.89019154, 0.10980846],\n",
       "       [0.8047114 , 0.1952886 ],\n",
       "       [0.8443982 , 0.1556018 ],\n",
       "       [0.95202152, 0.04797848],\n",
       "       [0.73672443, 0.26327557],\n",
       "       [0.99740821, 0.00259179],\n",
       "       [0.80966857, 0.19033143],\n",
       "       [0.59242171, 0.40757829],\n",
       "       [0.92357553, 0.07642447],\n",
       "       [0.18821318, 0.81178682],\n",
       "       [0.11082508, 0.88917492],\n",
       "       [0.94585645, 0.05414355],\n",
       "       [0.78141219, 0.21858781]])"
      ]
     },
     "execution_count": 17,
     "metadata": {},
     "output_type": "execute_result"
    }
   ],
   "source": [
    "logreg.predict_proba(X_test)"
   ]
  },
  {
   "cell_type": "code",
   "execution_count": 25,
   "id": "2fdd762a-cd0d-4054-ad71-959156665f3d",
   "metadata": {},
   "outputs": [],
   "source": [
    "y_pred_prob = logreg.predict_proba(X_test)[:, 1]"
   ]
  },
  {
   "cell_type": "code",
   "execution_count": 30,
   "id": "aca65b5a-0f3b-47ad-97fc-a27c814d9adb",
   "metadata": {},
   "outputs": [
    {
     "data": {
      "text/plain": [
       "(154,)"
      ]
     },
     "execution_count": 30,
     "metadata": {},
     "output_type": "execute_result"
    }
   ],
   "source": [
    "y_pred_prob.shape"
   ]
  },
  {
   "cell_type": "code",
   "execution_count": 31,
   "id": "c759e8d2-bb1c-4799-aec4-9ae881dbc06f",
   "metadata": {},
   "outputs": [],
   "source": [
    "from sklearn.preprocessing import binarize\n",
    "y_pred_class = np.where(y_pred_prob>0.3,1, 0)"
   ]
  },
  {
   "cell_type": "code",
   "execution_count": 32,
   "id": "a32e052f-e727-436e-ab5e-02a52e31b5bc",
   "metadata": {},
   "outputs": [
    {
     "data": {
      "text/plain": [
       "array([1, 0, 1, 0, 0, 1, 0, 0, 1, 0, 1, 0, 0, 0, 0, 0, 1, 1, 0, 0, 0, 1,\n",
       "       1, 1, 0, 0, 0, 0, 0, 1, 1, 0, 1, 1, 0, 1, 0, 1, 1, 0, 1, 0, 1, 0,\n",
       "       0, 0, 0, 0, 0, 1, 0, 0, 0, 1, 0, 0, 0, 1, 0, 1, 1, 1, 0, 1, 0, 0,\n",
       "       0, 1, 1, 1, 0, 1, 1, 0, 1, 1, 0, 0, 0, 0, 0, 1, 1, 1, 0, 0, 1, 1,\n",
       "       0, 0, 0, 0, 0, 0, 1, 0, 0, 1, 1, 0, 1, 1, 0, 0, 0, 0, 0, 0, 0, 1,\n",
       "       1, 1, 0, 1, 0, 1, 0, 1, 1, 0, 0, 0, 1, 1, 0, 0, 1, 1, 0, 0, 1, 1,\n",
       "       1, 1, 1, 1, 1, 0, 0, 0, 1, 0, 0, 0, 0, 0, 0, 0, 1, 0, 1, 1, 0, 0])"
      ]
     },
     "execution_count": 32,
     "metadata": {},
     "output_type": "execute_result"
    }
   ],
   "source": [
    "y_pred_class"
   ]
  },
  {
   "cell_type": "code",
   "execution_count": 28,
   "id": "4cc6b1f9-5b54-487f-b88a-77d7eae83269",
   "metadata": {},
   "outputs": [
    {
     "data": {
      "text/plain": [
       "(154,)"
      ]
     },
     "execution_count": 28,
     "metadata": {},
     "output_type": "execute_result"
    }
   ],
   "source": [
    "y_test.shape"
   ]
  },
  {
   "cell_type": "code",
   "execution_count": 33,
   "id": "0606e630-6572-496c-a025-8fc71b6fb015",
   "metadata": {},
   "outputs": [
    {
     "data": {
      "text/plain": [
       "(154,)"
      ]
     },
     "execution_count": 33,
     "metadata": {},
     "output_type": "execute_result"
    }
   ],
   "source": [
    "y_pred_class.shape"
   ]
  },
  {
   "cell_type": "code",
   "execution_count": 35,
   "id": "7414978e-67fe-4b90-a5cb-b119bc368f8a",
   "metadata": {},
   "outputs": [
    {
     "data": {
      "text/plain": [
       "0.717391304347826"
      ]
     },
     "execution_count": 35,
     "metadata": {},
     "output_type": "execute_result"
    }
   ],
   "source": [
    "recall_score(y_test, y_pred_class)"
   ]
  },
  {
   "cell_type": "code",
   "execution_count": 36,
   "id": "4863722e-f5e3-4258-a7e0-26f72e0407ba",
   "metadata": {},
   "outputs": [
    {
     "data": {
      "text/plain": [
       "0.5076923076923077"
      ]
     },
     "execution_count": 36,
     "metadata": {},
     "output_type": "execute_result"
    }
   ],
   "source": [
    "precision_score(y_test, y_pred_class)"
   ]
  },
  {
   "cell_type": "code",
   "execution_count": 37,
   "id": "e636eb05-1d7d-402c-948b-5f906f44ce37",
   "metadata": {},
   "outputs": [],
   "source": [
    "y_pred_class = np.where(y_pred_prob>0.7,1, 0)"
   ]
  },
  {
   "cell_type": "code",
   "execution_count": 38,
   "id": "997944f5-91f9-460e-a43d-a261e142a9d9",
   "metadata": {},
   "outputs": [
    {
     "data": {
      "text/plain": [
       "0.2608695652173913"
      ]
     },
     "execution_count": 38,
     "metadata": {},
     "output_type": "execute_result"
    }
   ],
   "source": [
    "recall_score(y_test, y_pred_class)"
   ]
  },
  {
   "cell_type": "code",
   "execution_count": 39,
   "id": "226bdfcf-9fce-4df9-9c7a-bccd952b5bca",
   "metadata": {},
   "outputs": [
    {
     "data": {
      "text/plain": [
       "0.9230769230769231"
      ]
     },
     "execution_count": 39,
     "metadata": {},
     "output_type": "execute_result"
    }
   ],
   "source": [
    "precision_score(y_test, y_pred_class)"
   ]
  },
  {
   "cell_type": "code",
   "execution_count": 40,
   "id": "e7af1a3b-a68e-4217-853f-c7839d9d81e6",
   "metadata": {},
   "outputs": [
    {
     "data": {
      "image/png": "[encoded data removed]",
      "text/plain": [
       "<Figure size 432x288 with 1 Axes>"
      ]
     },
     "metadata": {
      "needs_background": "light"
     },
     "output_type": "display_data"
    }
   ],
   "source": [
    "\n",
    "import matplotlib.pyplot as plt\n",
    "fpr, tpr, thresholds = metrics.roc_curve(y_test, y_pred_prob)\n",
    "plt.plot(fpr, tpr)\n",
    "plt.xlim([0.0, 1.0])\n",
    "plt.ylim([0.0, 1.0])\n",
    "plt.title('ROC curve for diabetes classifier')\n",
    "plt.xlabel('False Positive Rate (1 - Specificity)')\n",
    "plt.ylabel('True Positive Rate (Sensitivity)')\n",
    "plt.grid(True)"
   ]
  },
  {
   "cell_type": "code",
   "execution_count": 41,
   "id": "99dbc60d-2686-443c-a176-45cc14fcf9ab",
   "metadata": {},
   "outputs": [
    {
     "name": "stdout",
     "output_type": "stream",
     "text": [
      "0.7932769726247987\n"
     ]
    }
   ],
   "source": [
    "# IMPORTANT: first argument is true values, second argument is predicted probabilities\n",
    "print(metrics.roc_auc_score(y_test, y_pred_prob))"
   ]
  },
  {
   "cell_type": "code",
   "execution_count": null,
   "id": "5c5ebacf-46a4-40d8-a8ab-4411e314ff52",
   "metadata": {},
   "outputs": [],
   "source": []
  }
 ],
 "metadata": {
  "kernelspec": {
   "display_name": "Python 3",
   "language": "python",
   "name": "python3"
  },
  "language_info": {
   "codemirror_mode": {
    "name": "ipython",
    "version": 3
   },
   "file_extension": ".py",
   "mimetype": "text/x-python",
   "name": "python",
   "nbconvert_exporter": "python",
   "pygments_lexer": "ipython3",
   "version": "3.10.9"
  },
  "vscode": {
   "interpreter": {
    "hash": "f8048d823ac758c079b9f29ef30bbbc9b1138746b4add2d8fb5759ec4a242e2c"
   }
  }
 },
 "nbformat": 4,
 "nbformat_minor": 5
}
