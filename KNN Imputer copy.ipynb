{
 "cells": [
  {
   "cell_type": "code",
   "execution_count": 111,
   "id": "81d8bb96-0b67-4873-a748-b6d8ef09af50",
   "metadata": {},
   "outputs": [],
   "source": [
    "import pandas as pd\n",
    "import numpy as np\n",
    "import matplotlib.pyplot as plt\n",
    "from sklearn.neighbors import KNeighborsClassifier\n",
    "from sklearn.impute import KNNImputer\n",
    "from sklearn.preprocessing import MinMaxScaler\n",
    "from sklearn.model_selection import train_test_split"
   ]
  },
  {
   "cell_type": "code",
   "execution_count": 93,
   "id": "19fc7f8e-6673-435c-b403-a750b62d3435",
   "metadata": {},
   "outputs": [
    {
     "data": {
      "text/html": [
       "<div>\n",
       "<style scoped>\n",
       "    .dataframe tbody tr th:only-of-type {\n",
       "        vertical-align: middle;\n",
       "    }\n",
       "\n",
       "    .dataframe tbody tr th {\n",
       "        vertical-align: top;\n",
       "    }\n",
       "\n",
       "    .dataframe thead th {\n",
       "        text-align: right;\n",
       "    }\n",
       "</style>\n",
       "<table border=\"1\" class=\"dataframe\">\n",
       "  <thead>\n",
       "    <tr style=\"text-align: right;\">\n",
       "      <th></th>\n",
       "      <th>Account Length</th>\n",
       "      <th>VMail Message</th>\n",
       "      <th>Day Mins</th>\n",
       "      <th>Eve Mins</th>\n",
       "      <th>Night Mins</th>\n",
       "      <th>Intl Mins</th>\n",
       "      <th>CustServ Calls</th>\n",
       "      <th>Intl Plan</th>\n",
       "      <th>VMail Plan</th>\n",
       "      <th>Day Calls</th>\n",
       "      <th>...</th>\n",
       "      <th>Eve Calls</th>\n",
       "      <th>Eve Charge</th>\n",
       "      <th>Night Calls</th>\n",
       "      <th>Night Charge</th>\n",
       "      <th>Intl Calls</th>\n",
       "      <th>Intl Charge</th>\n",
       "      <th>State</th>\n",
       "      <th>Area Code</th>\n",
       "      <th>Phone</th>\n",
       "      <th>Churn</th>\n",
       "    </tr>\n",
       "  </thead>\n",
       "  <tbody>\n",
       "    <tr>\n",
       "      <th>684</th>\n",
       "      <td>110</td>\n",
       "      <td>0</td>\n",
       "      <td>100.1</td>\n",
       "      <td>233.3</td>\n",
       "      <td>204.4</td>\n",
       "      <td>11.1</td>\n",
       "      <td>3</td>\n",
       "      <td>0</td>\n",
       "      <td>0</td>\n",
       "      <td>90</td>\n",
       "      <td>...</td>\n",
       "      <td>93</td>\n",
       "      <td>19.83</td>\n",
       "      <td>57</td>\n",
       "      <td>9.20</td>\n",
       "      <td>8</td>\n",
       "      <td>3.00</td>\n",
       "      <td>AK</td>\n",
       "      <td>408</td>\n",
       "      <td>396-2335</td>\n",
       "      <td>0</td>\n",
       "    </tr>\n",
       "    <tr>\n",
       "      <th>3561</th>\n",
       "      <td>136</td>\n",
       "      <td>0</td>\n",
       "      <td>199.6</td>\n",
       "      <td>211.4</td>\n",
       "      <td>72.4</td>\n",
       "      <td>11.0</td>\n",
       "      <td>3</td>\n",
       "      <td>1</td>\n",
       "      <td>0</td>\n",
       "      <td>89</td>\n",
       "      <td>...</td>\n",
       "      <td>96</td>\n",
       "      <td>17.97</td>\n",
       "      <td>84</td>\n",
       "      <td>3.26</td>\n",
       "      <td>4</td>\n",
       "      <td>2.97</td>\n",
       "      <td>MA</td>\n",
       "      <td>408</td>\n",
       "      <td>367-8168</td>\n",
       "      <td>1</td>\n",
       "    </tr>\n",
       "    <tr>\n",
       "      <th>2344</th>\n",
       "      <td>95</td>\n",
       "      <td>0</td>\n",
       "      <td>183.4</td>\n",
       "      <td>281.3</td>\n",
       "      <td>105.2</td>\n",
       "      <td>8.2</td>\n",
       "      <td>1</td>\n",
       "      <td>0</td>\n",
       "      <td>0</td>\n",
       "      <td>98</td>\n",
       "      <td>...</td>\n",
       "      <td>95</td>\n",
       "      <td>23.91</td>\n",
       "      <td>113</td>\n",
       "      <td>4.73</td>\n",
       "      <td>8</td>\n",
       "      <td>2.21</td>\n",
       "      <td>CA</td>\n",
       "      <td>415</td>\n",
       "      <td>341-3270</td>\n",
       "      <td>0</td>\n",
       "    </tr>\n",
       "  </tbody>\n",
       "</table>\n",
       "<p>3 rows × 21 columns</p>\n",
       "</div>"
      ],
      "text/plain": [
       "      Account Length  VMail Message  Day Mins  Eve Mins  Night Mins  \\\n",
       "684              110              0     100.1     233.3       204.4   \n",
       "3561             136              0     199.6     211.4        72.4   \n",
       "2344              95              0     183.4     281.3       105.2   \n",
       "\n",
       "      Intl Mins  CustServ Calls  Intl Plan  VMail Plan  Day Calls  ...  \\\n",
       "684        11.1               3          0           0         90  ...   \n",
       "3561       11.0               3          1           0         89  ...   \n",
       "2344        8.2               1          0           0         98  ...   \n",
       "\n",
       "      Eve Calls  Eve Charge  Night Calls  Night Charge  Intl Calls  \\\n",
       "684          93       19.83           57          9.20           8   \n",
       "3561         96       17.97           84          3.26           4   \n",
       "2344         95       23.91          113          4.73           8   \n",
       "\n",
       "      Intl Charge  State Area Code     Phone Churn  \n",
       "684          3.00     AK       408  396-2335     0  \n",
       "3561         2.97     MA       408  367-8168     1  \n",
       "2344         2.21     CA       415  341-3270     0  \n",
       "\n",
       "[3 rows x 21 columns]"
      ]
     },
     "execution_count": 93,
     "metadata": {},
     "output_type": "execute_result"
    }
   ],
   "source": [
    "df=pd.read_csv(r'C:\\Users\\visha\\OneDrive\\Scaler Academy\\Datasets\\churn_logistic.csv')\n",
    "df.sample(3)"
   ]
  },
  {
   "cell_type": "code",
   "execution_count": 94,
   "id": "2f22c231-246e-4f44-8dbc-7ed0d20d5a8c",
   "metadata": {},
   "outputs": [
    {
     "data": {
      "text/plain": [
       "0    2850\n",
       "1    2850\n",
       "Name: Churn, dtype: int64"
      ]
     },
     "execution_count": 94,
     "metadata": {},
     "output_type": "execute_result"
    }
   ],
   "source": [
    "df.Churn.value_counts()"
   ]
  },
  {
   "cell_type": "code",
   "execution_count": 8,
   "id": "f3e6ed5e",
   "metadata": {},
   "outputs": [],
   "source": [
    "#make it imbalanced dataset so remove some of the rows\n",
    "df.drop([4700, 5353, 5201, 4749],axis=0,inplace=True)"
   ]
  },
  {
   "cell_type": "code",
   "execution_count": 95,
   "id": "1325cf6e",
   "metadata": {},
   "outputs": [
    {
     "data": {
      "text/plain": [
       "2850"
      ]
     },
     "execution_count": 95,
     "metadata": {},
     "output_type": "execute_result"
    }
   ],
   "source": [
    "#use function since it is time taking\n",
    "idx = df.index[df[\"Churn\"] == 1]\n",
    "len(idx)"
   ]
  },
  {
   "cell_type": "code",
   "execution_count": 104,
   "id": "80c895af",
   "metadata": {},
   "outputs": [
    {
     "data": {
      "text/plain": [
       "5000"
      ]
     },
     "execution_count": 104,
     "metadata": {},
     "output_type": "execute_result"
    }
   ],
   "source": [
    "import random\n",
    "idx_list = []\n",
    "for _ in range(5000):\n",
    "    idx_list.append(random.choice(idx))\n",
    "len(idx_list)"
   ]
  },
  {
   "cell_type": "code",
   "execution_count": 105,
   "id": "fa01895b",
   "metadata": {},
   "outputs": [
    {
     "data": {
      "text/plain": [
       "0    2850\n",
       "1     494\n",
       "Name: Churn, dtype: int64"
      ]
     },
     "execution_count": 105,
     "metadata": {},
     "output_type": "execute_result"
    }
   ],
   "source": [
    "new_df = df.drop(idx_list, axis=0)\n",
    "new_df.Churn.value_counts()"
   ]
  },
  {
   "cell_type": "code",
   "execution_count": 112,
   "id": "67ce1ed3-79da-4ad7-9ec0-5a837ca770fb",
   "metadata": {},
   "outputs": [
    {
     "data": {
      "text/plain": [
       "0.14772727272727273"
      ]
     },
     "execution_count": 112,
     "metadata": {},
     "output_type": "execute_result"
    }
   ],
   "source": [
    "494/(494+2850) #we have 85% and 15 data"
   ]
  },
  {
   "cell_type": "code",
   "execution_count": 107,
   "id": "0330bcbd-39b6-4bd7-ad7a-eeeefad745c3",
   "metadata": {},
   "outputs": [
    {
     "data": {
      "text/plain": [
       "(5700, 5)"
      ]
     },
     "execution_count": 107,
     "metadata": {},
     "output_type": "execute_result"
    }
   ],
   "source": [
    "cols = ['Day Mins', 'Eve Mins', 'CustServ Calls', 'Intl Plan','VMail Message']\n",
    "y = df[\"Churn\"]\n",
    "X = df[cols]\n",
    "X.shape"
   ]
  },
  {
   "cell_type": "code",
   "execution_count": 110,
   "id": "c26f5f8e-5397-4637-ac31-77abf0f9e4dc",
   "metadata": {},
   "outputs": [],
   "source": [
    "# Train, CV, test split\n",
    "X_tr_cv, X_test, y_tr_cv, y_test = train_test_split(X, y, test_size=0.2, random_state=42)\n",
    "X_train, X_val, y_train, y_val = train_test_split(X_tr_cv, y_tr_cv, test_size=0.25, random_state=42)"
   ]
  },
  {
   "cell_type": "code",
   "execution_count": 123,
   "id": "6da4a014-dbc3-4c84-b842-44ad46893989",
   "metadata": {},
   "outputs": [],
   "source": [
    "errors = []\n",
    "# Calculating error for K values between 1 and 50\n",
    "for i in range(1, 51):\n",
    "    knn = KNeighborsClassifier(n_neighbors=i, metric='euclidean')\n",
    "    knn.fit(X_train, y_train)\n",
    "    pred_i = knn.predict(X_val)\n",
    "    errors.append(np.mean(pred_i != y_val))"
   ]
  },
  {
   "cell_type": "code",
   "execution_count": 127,
   "id": "756a88dd-b2d6-437e-97fe-51fcf12be5d0",
   "metadata": {},
   "outputs": [
    {
     "data": {
      "text/plain": [
       "Text(0, 0.5, 'Mean Error')"
      ]
     },
     "execution_count": 127,
     "metadata": {},
     "output_type": "execute_result"
    },
    {
     "data": {
      "image/png": "[encoded data removed]",
      "text/plain": [
       "<Figure size 1200x600 with 1 Axes>"
      ]
     },
     "metadata": {},
     "output_type": "display_data"
    }
   ],
   "source": [
    "plt.figure(figsize=(12, 6))\n",
    "plt.plot(range(1, 51), errors, color='red', linestyle='dashed', marker='o',\n",
    "         markerfacecolor='blue', markersize=10)\n",
    "plt.title('Error Rate K Value')\n",
    "plt.xlabel('K Value')\n",
    "plt.ylabel('Mean Error')"
   ]
  },
  {
   "cell_type": "code",
   "execution_count": null,
   "id": "109685b5-e034-42d3-a1c6-d2c7d8d56f90",
   "metadata": {},
   "outputs": [
    {
     "data": {
      "text/plain": [
       "KNeighborsClassifier(metric='euclidean', n_neighbors=9)"
      ]
     },
     "execution_count": 23,
     "metadata": {},
     "output_type": "execute_result"
    }
   ],
   "source": [
    "knn = KNeighborsClassifier(n_neighbors=9,metric='euclidean')\n",
    "\n",
    "knn.fit(X_train, y_train)"
   ]
  },
  {
   "cell_type": "code",
   "execution_count": null,
   "id": "be59119a-ec0e-4ee8-8c59-46445b96c786",
   "metadata": {},
   "outputs": [
    {
     "data": {
      "text/plain": [
       "0.9025487256371814"
      ]
     },
     "execution_count": 24,
     "metadata": {},
     "output_type": "execute_result"
    }
   ],
   "source": [
    "y_pred = knn.predict(X_test)\n",
    "knn.score(X_test, y_test)"
   ]
  },
  {
   "cell_type": "code",
   "execution_count": null,
   "id": "62d98e05-9b28-4ec9-9364-2b65f652861a",
   "metadata": {},
   "outputs": [],
   "source": [
    "from sklearn.metrics import confusion_matrix, f1_score"
   ]
  },
  {
   "cell_type": "code",
   "execution_count": null,
   "id": "49b210d8-4faf-43e6-95ee-a332b494581b",
   "metadata": {},
   "outputs": [],
   "source": [
    "from sklearn.metrics import classification_report, precision_score, recall_score"
   ]
  },
  {
   "cell_type": "code",
   "execution_count": null,
   "id": "f46f4228-5363-448a-b1be-63c669bf9e4f",
   "metadata": {},
   "outputs": [],
   "source": [
    "from sklearn.metrics import ConfusionMatrixDisplay"
   ]
  },
  {
   "cell_type": "code",
   "execution_count": null,
   "id": "84304eba-51f2-4aa6-b630-565a98b6d6a2",
   "metadata": {},
   "outputs": [],
   "source": [
    "cm = confusion_matrix(y_test, y_pred, labels=knn.classes_)"
   ]
  },
  {
   "cell_type": "code",
   "execution_count": null,
   "id": "8ea0bddb-ce67-4362-b60f-ed164542bca5",
   "metadata": {},
   "outputs": [],
   "source": [
    "disp = ConfusionMatrixDisplay(cm , display_labels = knn.classes_ )"
   ]
  },
  {
   "cell_type": "code",
   "execution_count": null,
   "id": "4c3ee125-3fad-4b7c-beb3-e5b068669389",
   "metadata": {},
   "outputs": [
    {
     "data": {
      "text/plain": [
       "<sklearn.metrics._plot.confusion_matrix.ConfusionMatrixDisplay at 0x2872fcb5730>"
      ]
     },
     "execution_count": 31,
     "metadata": {},
     "output_type": "execute_result"
    },
    {
     "data": {
      "image/png": "[encoded data removed]",
      "text/plain": [
       "<Figure size 432x288 with 2 Axes>"
      ]
     },
     "metadata": {
      "needs_background": "light"
     },
     "output_type": "display_data"
    }
   ],
   "source": [
    "disp.plot()"
   ]
  },
  {
   "cell_type": "code",
   "execution_count": null,
   "id": "b424bafb-2a88-44bf-96e9-6068c3d0dca0",
   "metadata": {},
   "outputs": [
    {
     "name": "stdout",
     "output_type": "stream",
     "text": [
      "              precision    recall  f1-score   support\n",
      "\n",
      "           0       0.90      0.99      0.95       566\n",
      "           1       0.88      0.42      0.56       101\n",
      "\n",
      "    accuracy                           0.90       667\n",
      "   macro avg       0.89      0.70      0.75       667\n",
      "weighted avg       0.90      0.90      0.89       667\n",
      "\n"
     ]
    }
   ],
   "source": [
    "print(classification_report(y_test, y_pred))"
   ]
  },
  {
   "cell_type": "code",
   "execution_count": null,
   "id": "9eb83000-846c-4b61-87b1-82caa6c9545b",
   "metadata": {},
   "outputs": [],
   "source": [
    "from sklearn.metrics import fbeta_score"
   ]
  },
  {
   "cell_type": "code",
   "execution_count": null,
   "id": "9bb70833-5c18-40ac-9ef8-c7d4645db9a4",
   "metadata": {},
   "outputs": [
    {
     "data": {
      "text/plain": [
       "0.7167235494880546"
      ]
     },
     "execution_count": 35,
     "metadata": {},
     "output_type": "execute_result"
    }
   ],
   "source": [
    "fbeta_score(y_test, y_pred, beta = 0.5)"
   ]
  },
  {
   "cell_type": "code",
   "execution_count": null,
   "id": "e48c8145-1c46-4cdf-9d56-6e25de666759",
   "metadata": {},
   "outputs": [
    {
     "data": {
      "text/plain": [
       "0.46460176991150437"
      ]
     },
     "execution_count": 36,
     "metadata": {},
     "output_type": "execute_result"
    }
   ],
   "source": [
    "fbeta_score(y_test, y_pred, beta = 2)"
   ]
  },
  {
   "cell_type": "code",
   "execution_count": null,
   "id": "f0fffe15-c79d-480a-9421-652e1efa4c3f",
   "metadata": {},
   "outputs": [
    {
     "data": {
      "image/png": "[encoded data removed]",
      "text/plain": [
       "<Figure size 432x288 with 1 Axes>"
      ]
     },
     "metadata": {
      "needs_background": "light"
     },
     "output_type": "display_data"
    }
   ],
   "source": [
    "from sklearn.linear_model import LogisticRegression\n",
    "from sklearn.pipeline import make_pipeline\n",
    "from sklearn.metrics import f1_score\n",
    "from sklearn.preprocessing import StandardScaler\n",
    "\n",
    "train_scores = []\n",
    "val_scores = []\n",
    "scaler = StandardScaler()\n",
    "l = 0.01\n",
    "h = 50.0\n",
    "d = 0.5\n",
    "\n",
    "for la in np.arange(l,h,d):\n",
    "  scaled_lr = make_pipeline( scaler, LogisticRegression(C=1/la))\n",
    "  scaled_lr.fit(X_train, y_train)\n",
    "  train_y_pred = scaled_lr.predict(X_train)\n",
    "  val_y_pred = scaled_lr.predict(X_val)\n",
    "  train_score = f1_score(y_train, train_y_pred)\n",
    "  val_score = f1_score(y_val, val_y_pred)\n",
    "  train_scores.append(train_score)\n",
    "  val_scores.append(val_score)\n",
    "\n",
    "plt.figure()\n",
    "plt.plot(list(np.arange(l,h,d)), train_scores, label=\"train\")\n",
    "plt.plot(list(np.arange(l,h,d)), val_scores, label=\"val\")\n",
    "plt.legend(loc='lower right')\n",
    "plt.xlabel(\"lambda\")\n",
    "plt.ylabel(\"F1-Score\")\n",
    "plt.grid()\n",
    "plt.show()"
   ]
  },
  {
   "cell_type": "code",
   "execution_count": null,
   "id": "70b8cfb6-a73a-413c-85b5-52354cb8be2c",
   "metadata": {},
   "outputs": [
    {
     "data": {
      "image/png": "[encoded data removed]",
      "text/plain": [
       "<Figure size 432x288 with 1 Axes>"
      ]
     },
     "metadata": {
      "needs_background": "light"
     },
     "output_type": "display_data"
    }
   ],
   "source": [
    "from sklearn.linear_model import LogisticRegression\n",
    "from sklearn.pipeline import make_pipeline\n",
    "from sklearn.metrics import f1_score\n",
    "from sklearn.preprocessing import StandardScaler\n",
    "\n",
    "train_scores = []\n",
    "val_scores = []\n",
    "scaler = StandardScaler()\n",
    "l = 0.01\n",
    "h = 50.0\n",
    "d = 0.5\n",
    "\n",
    "for la in np.arange(l,h,d):\n",
    "  scaled_lr = make_pipeline( scaler, LogisticRegression(C=1/la,class_weight=({0:1,1:6}) ))\n",
    "  scaled_lr.fit(X_train, y_train)\n",
    "  train_y_pred = scaled_lr.predict(X_train)\n",
    "  val_y_pred = scaled_lr.predict(X_val)\n",
    "  train_score = f1_score(y_train, train_y_pred)\n",
    "  val_score = f1_score(y_val, val_y_pred)\n",
    "  train_scores.append(train_score)\n",
    "  val_scores.append(val_score)\n",
    "\n",
    "plt.figure()\n",
    "plt.plot(list(np.arange(l,h,d)), train_scores, label=\"train\")\n",
    "plt.plot(list(np.arange(l,h,d)), val_scores, label=\"val\")\n",
    "plt.legend(loc='lower right')\n",
    "plt.xlabel(\"lambda\")\n",
    "plt.ylabel(\"F1-Score\")\n",
    "plt.grid()\n",
    "plt.show()"
   ]
  },
  {
   "cell_type": "code",
   "execution_count": null,
   "id": "aecc6b6f-37ad-46fa-9ded-2df949807adb",
   "metadata": {},
   "outputs": [
    {
     "name": "stdout",
     "output_type": "stream",
     "text": [
      "0.46583850931677023\n"
     ]
    }
   ],
   "source": [
    "best_idx = np.argmax(val_scores)\n",
    "print(val_scores[best_idx])"
   ]
  },
  {
   "cell_type": "code",
   "execution_count": null,
   "id": "3caf8b34-6c99-482e-93a8-62c6416f2ad7",
   "metadata": {},
   "outputs": [
    {
     "data": {
      "text/plain": [
       "0"
      ]
     },
     "execution_count": 44,
     "metadata": {},
     "output_type": "execute_result"
    }
   ],
   "source": [
    "best_idx"
   ]
  },
  {
   "cell_type": "code",
   "execution_count": null,
   "id": "07ddc68a-a29b-4f5a-a364-75b2b467c8f7",
   "metadata": {},
   "outputs": [
    {
     "name": "stdout",
     "output_type": "stream",
     "text": [
      "0.5098039215686274\n"
     ]
    }
   ],
   "source": [
    "# Model with lambda_best\n",
    "best_idx = np.argmax(val_scores)\n",
    "l_best = l+d*best_idx\n",
    "scaled_lr = make_pipeline( scaler, LogisticRegression(C=1/l_best, class_weight={ 0:1, 1:6 }))\n",
    "scaled_lr.fit(X_train, y_train)\n",
    "\n",
    "y_pred_test = scaled_lr.predict(X_test)\n",
    "test_score = f1_score(y_test, y_pred_test)\n",
    "\n",
    "print(test_score)"
   ]
  },
  {
   "cell_type": "code",
   "execution_count": null,
   "id": "f7ee3655-ab67-4136-8ff7-30de408288df",
   "metadata": {},
   "outputs": [
    {
     "name": "stdout",
     "output_type": "stream",
     "text": [
      "              precision    recall  f1-score   support\n",
      "\n",
      "           0       0.95      0.78      0.85       566\n",
      "           1       0.38      0.77      0.51       101\n",
      "\n",
      "    accuracy                           0.78       667\n",
      "   macro avg       0.67      0.77      0.68       667\n",
      "weighted avg       0.86      0.78      0.80       667\n",
      "\n"
     ]
    }
   ],
   "source": [
    "print(classification_report(y_test, y_pred_test))"
   ]
  },
  {
   "cell_type": "code",
   "execution_count": null,
   "id": "6a04e663-37dc-4b17-a9d7-447f283a2132",
   "metadata": {},
   "outputs": [],
   "source": [
    "from imblearn.over_sampling import SMOTE\n",
    "from collections import Counter\n"
   ]
  },
  {
   "cell_type": "code",
   "execution_count": null,
   "id": "3a477a6c-3acd-42ea-9e26-d20feb7074a9",
   "metadata": {},
   "outputs": [
    {
     "name": "stdout",
     "output_type": "stream",
     "text": [
      "Resampled dataset shape Counter({0: 1718, 1: 859})\n"
     ]
    }
   ],
   "source": [
    "smt = SMOTE(sampling_strategy=0.5)\n",
    "X_sm, y_sm = smt.fit_resample(X_train, y_train)\n",
    "\n",
    "print('Resampled dataset shape {}'.format(Counter(y_sm)))"
   ]
  },
  {
   "cell_type": "code",
   "execution_count": null,
   "id": "0210bb31-e62b-4302-b755-fb65494e02d4",
   "metadata": {},
   "outputs": [
    {
     "data": {
      "image/png": "[encoded data removed]",
      "text/plain": [
       "<Figure size 432x288 with 1 Axes>"
      ]
     },
     "metadata": {
      "needs_background": "light"
     },
     "output_type": "display_data"
    }
   ],
   "source": [
    "from sklearn.linear_model import LogisticRegression\n",
    "from sklearn.pipeline import make_pipeline\n",
    "\n",
    "\n",
    "train_scores = []\n",
    "val_scores = []\n",
    "scaler = StandardScaler()\n",
    "l = 0.01\n",
    "h = 50.0\n",
    "d = 0.05\n",
    "\n",
    "for la in np.arange(l,h,d):\n",
    "  scaled_lr = make_pipeline( scaler, LogisticRegression(C=1/la))\n",
    "  scaled_lr.fit(X_sm, y_sm)\n",
    "  train_score = f1_score(y_sm, scaled_lr.predict(X_sm))\n",
    "  val_score = f1_score(y_val, scaled_lr.predict(X_val))\n",
    "  train_scores.append(train_score)\n",
    "  val_scores.append(val_score)\n",
    "\n",
    "plt.figure()\n",
    "plt.plot(list(np.arange(l,h,d)), train_scores, label=\"train\")\n",
    "plt.plot(list(np.arange(l,h,d)), val_scores, label=\"val\")\n",
    "plt.legend(loc='lower right')\n",
    "plt.xlabel(\"lambda\")\n",
    "plt.ylabel(\"F1 Score\")\n",
    "plt.grid()\n",
    "plt.show()"
   ]
  },
  {
   "cell_type": "code",
   "execution_count": null,
   "id": "ad353f2a-0b54-4feb-a661-80fbbeb3c94a",
   "metadata": {},
   "outputs": [
    {
     "name": "stdout",
     "output_type": "stream",
     "text": [
      "0.537037037037037\n"
     ]
    }
   ],
   "source": [
    "# Model with lambda_best\n",
    "best_idx = np.argmax(val_scores)\n",
    "l_best = l+d*best_idx\n",
    "scaled_lr = make_pipeline( scaler, LogisticRegression(C=1/l_best))\n",
    "scaled_lr.fit(X_sm, y_sm)\n",
    "\n",
    "y_pred_test = scaled_lr.predict(X_test)\n",
    "test_score = f1_score(y_test, y_pred_test)\n",
    "\n",
    "print(test_score)"
   ]
  },
  {
   "cell_type": "code",
   "execution_count": null,
   "id": "b3405fd8-5cd4-4824-8242-686ba312c228",
   "metadata": {},
   "outputs": [
    {
     "name": "stdout",
     "output_type": "stream",
     "text": [
      "              precision    recall  f1-score   support\n",
      "\n",
      "           0       0.92      0.90      0.91       566\n",
      "           1       0.50      0.57      0.54       101\n",
      "\n",
      "    accuracy                           0.85       667\n",
      "   macro avg       0.71      0.74      0.72       667\n",
      "weighted avg       0.86      0.85      0.85       667\n",
      "\n"
     ]
    }
   ],
   "source": [
    "print(classification_report(y_test, y_pred_test))"
   ]
  },
  {
   "cell_type": "code",
   "execution_count": null,
   "id": "ce7aa3e5-4032-4a1e-bbc9-b2d27e811b7b",
   "metadata": {},
   "outputs": [],
   "source": [
    "f2 = fbeta_score(y_test,y_pred_test,beta=2)\n",
    "f0 = fbeta_score(y_test,y_pred_test,beta=0.5)"
   ]
  },
  {
   "cell_type": "code",
   "execution_count": null,
   "id": "c89b9bcd-f9e1-4daa-9512-5833466c1c46",
   "metadata": {},
   "outputs": [
    {
     "name": "stdout",
     "output_type": "stream",
     "text": [
      "0.5587668593448939 0.516934046345811\n"
     ]
    }
   ],
   "source": [
    "print(f2, f0)"
   ]
  },
  {
   "cell_type": "code",
   "execution_count": null,
   "id": "38481666-cfaf-49b5-812e-2743bac377fd",
   "metadata": {},
   "outputs": [],
   "source": []
  }
 ],
 "metadata": {
  "kernelspec": {
   "display_name": "Python 3",
   "language": "python",
   "name": "python3"
  },
  "language_info": {
   "codemirror_mode": {
    "name": "ipython",
    "version": 3
   },
   "file_extension": ".py",
   "mimetype": "text/x-python",
   "name": "python",
   "nbconvert_exporter": "python",
   "pygments_lexer": "ipython3",
   "version": "3.10.9"
  },
  "vscode": {
   "interpreter": {
    "hash": "f8048d823ac758c079b9f29ef30bbbc9b1138746b4add2d8fb5759ec4a242e2c"
   }
  }
 },
 "nbformat": 4,
 "nbformat_minor": 5
}
