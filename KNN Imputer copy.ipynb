{
 "cells": [
  {
   "cell_type": "code",
   "execution_count": 1,
   "id": "81d8bb96-0b67-4873-a748-b6d8ef09af50",
   "metadata": {},
   "outputs": [],
   "source": [
    "import pandas as pd\n",
    "import numpy as np\n",
    "import matplotlib.pyplot as plt\n",
    "from sklearn.neighbors import KNeighborsClassifier\n",
    "from sklearn.impute import KNNImputer\n",
    "from sklearn.preprocessing import MinMaxScaler\n",
    "from sklearn.model_selection import train_test_split"
   ]
  },
  {
   "cell_type": "code",
   "execution_count": 2,
   "id": "19fc7f8e-6673-435c-b403-a750b62d3435",
   "metadata": {},
   "outputs": [
    {
     "data": {
      "text/html": [
       "<div>\n",
       "<style scoped>\n",
       "    .dataframe tbody tr th:only-of-type {\n",
       "        vertical-align: middle;\n",
       "    }\n",
       "\n",
       "    .dataframe tbody tr th {\n",
       "        vertical-align: top;\n",
       "    }\n",
       "\n",
       "    .dataframe thead th {\n",
       "        text-align: right;\n",
       "    }\n",
       "</style>\n",
       "<table border=\"1\" class=\"dataframe\">\n",
       "  <thead>\n",
       "    <tr style=\"text-align: right;\">\n",
       "      <th></th>\n",
       "      <th>Account Length</th>\n",
       "      <th>VMail Message</th>\n",
       "      <th>Day Mins</th>\n",
       "      <th>Eve Mins</th>\n",
       "      <th>Night Mins</th>\n",
       "      <th>Intl Mins</th>\n",
       "      <th>CustServ Calls</th>\n",
       "      <th>Intl Plan</th>\n",
       "      <th>VMail Plan</th>\n",
       "      <th>Day Calls</th>\n",
       "      <th>...</th>\n",
       "      <th>Eve Calls</th>\n",
       "      <th>Eve Charge</th>\n",
       "      <th>Night Calls</th>\n",
       "      <th>Night Charge</th>\n",
       "      <th>Intl Calls</th>\n",
       "      <th>Intl Charge</th>\n",
       "      <th>State</th>\n",
       "      <th>Area Code</th>\n",
       "      <th>Phone</th>\n",
       "      <th>Churn</th>\n",
       "    </tr>\n",
       "  </thead>\n",
       "  <tbody>\n",
       "    <tr>\n",
       "      <th>4109</th>\n",
       "      <td>56</td>\n",
       "      <td>0</td>\n",
       "      <td>162.3</td>\n",
       "      <td>149.1</td>\n",
       "      <td>255.5</td>\n",
       "      <td>14.8</td>\n",
       "      <td>4</td>\n",
       "      <td>0</td>\n",
       "      <td>0</td>\n",
       "      <td>99</td>\n",
       "      <td>...</td>\n",
       "      <td>78</td>\n",
       "      <td>12.67</td>\n",
       "      <td>115</td>\n",
       "      <td>11.50</td>\n",
       "      <td>1</td>\n",
       "      <td>4.00</td>\n",
       "      <td>CT</td>\n",
       "      <td>415</td>\n",
       "      <td>406-3069</td>\n",
       "      <td>1</td>\n",
       "    </tr>\n",
       "    <tr>\n",
       "      <th>2613</th>\n",
       "      <td>48</td>\n",
       "      <td>0</td>\n",
       "      <td>240.0</td>\n",
       "      <td>141.0</td>\n",
       "      <td>128.9</td>\n",
       "      <td>7.1</td>\n",
       "      <td>1</td>\n",
       "      <td>0</td>\n",
       "      <td>0</td>\n",
       "      <td>88</td>\n",
       "      <td>...</td>\n",
       "      <td>117</td>\n",
       "      <td>11.99</td>\n",
       "      <td>137</td>\n",
       "      <td>5.80</td>\n",
       "      <td>9</td>\n",
       "      <td>1.92</td>\n",
       "      <td>MI</td>\n",
       "      <td>415</td>\n",
       "      <td>407-2718</td>\n",
       "      <td>0</td>\n",
       "    </tr>\n",
       "    <tr>\n",
       "      <th>2159</th>\n",
       "      <td>132</td>\n",
       "      <td>0</td>\n",
       "      <td>190.1</td>\n",
       "      <td>182.2</td>\n",
       "      <td>279.8</td>\n",
       "      <td>13.0</td>\n",
       "      <td>1</td>\n",
       "      <td>0</td>\n",
       "      <td>0</td>\n",
       "      <td>105</td>\n",
       "      <td>...</td>\n",
       "      <td>116</td>\n",
       "      <td>15.49</td>\n",
       "      <td>105</td>\n",
       "      <td>12.59</td>\n",
       "      <td>2</td>\n",
       "      <td>3.51</td>\n",
       "      <td>KS</td>\n",
       "      <td>415</td>\n",
       "      <td>420-9973</td>\n",
       "      <td>0</td>\n",
       "    </tr>\n",
       "  </tbody>\n",
       "</table>\n",
       "<p>3 rows × 21 columns</p>\n",
       "</div>"
      ],
      "text/plain": [
       "      Account Length  VMail Message  Day Mins  Eve Mins  Night Mins  \\\n",
       "4109              56              0     162.3     149.1       255.5   \n",
       "2613              48              0     240.0     141.0       128.9   \n",
       "2159             132              0     190.1     182.2       279.8   \n",
       "\n",
       "      Intl Mins  CustServ Calls  Intl Plan  VMail Plan  Day Calls  ...  \\\n",
       "4109       14.8               4          0           0         99  ...   \n",
       "2613        7.1               1          0           0         88  ...   \n",
       "2159       13.0               1          0           0        105  ...   \n",
       "\n",
       "      Eve Calls  Eve Charge  Night Calls  Night Charge  Intl Calls  \\\n",
       "4109         78       12.67          115         11.50           1   \n",
       "2613        117       11.99          137          5.80           9   \n",
       "2159        116       15.49          105         12.59           2   \n",
       "\n",
       "      Intl Charge  State Area Code     Phone Churn  \n",
       "4109         4.00     CT       415  406-3069     1  \n",
       "2613         1.92     MI       415  407-2718     0  \n",
       "2159         3.51     KS       415  420-9973     0  \n",
       "\n",
       "[3 rows x 21 columns]"
      ]
     },
     "execution_count": 2,
     "metadata": {},
     "output_type": "execute_result"
    }
   ],
   "source": [
    "df=pd.read_csv(r'C:\\Users\\visha\\OneDrive\\Scaler Academy\\Datasets\\churn_logistic.csv')\n",
    "df.sample(3)"
   ]
  },
  {
   "cell_type": "code",
   "execution_count": 3,
   "id": "2f22c231-246e-4f44-8dbc-7ed0d20d5a8c",
   "metadata": {},
   "outputs": [
    {
     "data": {
      "text/plain": [
       "0    2850\n",
       "1    2850\n",
       "Name: Churn, dtype: int64"
      ]
     },
     "execution_count": 3,
     "metadata": {},
     "output_type": "execute_result"
    }
   ],
   "source": [
    "df.Churn.value_counts()"
   ]
  },
  {
   "cell_type": "code",
   "execution_count": 4,
   "id": "f3e6ed5e",
   "metadata": {},
   "outputs": [],
   "source": [
    "#make it imbalanced dataset so remove some of the rows\n",
    "df.drop([4700, 5353, 5201, 4749],axis=0,inplace=True)"
   ]
  },
  {
   "cell_type": "code",
   "execution_count": 5,
   "id": "1325cf6e",
   "metadata": {},
   "outputs": [
    {
     "data": {
      "text/plain": [
       "2846"
      ]
     },
     "execution_count": 5,
     "metadata": {},
     "output_type": "execute_result"
    }
   ],
   "source": [
    "#use function since it is time taking\n",
    "idx = df.index[df[\"Churn\"] == 1]\n",
    "len(idx)"
   ]
  },
  {
   "cell_type": "code",
   "execution_count": 6,
   "id": "80c895af",
   "metadata": {},
   "outputs": [
    {
     "data": {
      "text/plain": [
       "5000"
      ]
     },
     "execution_count": 6,
     "metadata": {},
     "output_type": "execute_result"
    }
   ],
   "source": [
    "import random\n",
    "idx_list = []\n",
    "for _ in range(5000):\n",
    "    idx_list.append(random.choice(idx))\n",
    "len(idx_list)"
   ]
  },
  {
   "cell_type": "code",
   "execution_count": 7,
   "id": "fa01895b",
   "metadata": {},
   "outputs": [
    {
     "data": {
      "text/plain": [
       "0    2850\n",
       "1     533\n",
       "Name: Churn, dtype: int64"
      ]
     },
     "execution_count": 7,
     "metadata": {},
     "output_type": "execute_result"
    }
   ],
   "source": [
    "new_df = df.drop(idx_list, axis=0)\n",
    "new_df.Churn.value_counts()"
   ]
  },
  {
   "cell_type": "code",
   "execution_count": 8,
   "id": "67ce1ed3-79da-4ad7-9ec0-5a837ca770fb",
   "metadata": {},
   "outputs": [
    {
     "data": {
      "text/plain": [
       "0.14772727272727273"
      ]
     },
     "execution_count": 8,
     "metadata": {},
     "output_type": "execute_result"
    }
   ],
   "source": [
    "494/(494+2850) #we have 85% and 15 data"
   ]
  },
  {
   "cell_type": "code",
   "execution_count": 9,
   "id": "0330bcbd-39b6-4bd7-ad7a-eeeefad745c3",
   "metadata": {},
   "outputs": [
    {
     "data": {
      "text/plain": [
       "(5696, 5)"
      ]
     },
     "execution_count": 9,
     "metadata": {},
     "output_type": "execute_result"
    }
   ],
   "source": [
    "#these are the useful columns\n",
    "cols = ['Day Mins', 'Eve Mins', 'CustServ Calls', 'Intl Plan','VMail Message']\n",
    "y = df[\"Churn\"]\n",
    "X = df[cols]\n",
    "X.shape"
   ]
  },
  {
   "cell_type": "code",
   "execution_count": 10,
   "id": "c26f5f8e-5397-4637-ac31-77abf0f9e4dc",
   "metadata": {},
   "outputs": [],
   "source": [
    "# Train, CV, test split\n",
    "X_tr_cv, X_test, y_tr_cv, y_test = train_test_split(X, y, test_size=0.2, random_state=42)\n",
    "X_train, X_val, y_train, y_val = train_test_split(X_tr_cv, y_tr_cv, test_size=0.25, random_state=42)"
   ]
  },
  {
   "cell_type": "code",
   "execution_count": 11,
   "id": "6da4a014-dbc3-4c84-b842-44ad46893989",
   "metadata": {},
   "outputs": [],
   "source": [
    "errors = []\n",
    "# Calculating error for K values between 1 and 50\n",
    "for i in range(1, 51):\n",
    "    knn = KNeighborsClassifier(n_neighbors=i, metric='euclidean')\n",
    "    knn.fit(X_train, y_train)\n",
    "    pred_i = knn.predict(X_val)\n",
    "    errors.append(np.mean(pred_i != y_val))"
   ]
  },
  {
   "cell_type": "code",
   "execution_count": 12,
   "id": "756a88dd-b2d6-437e-97fe-51fcf12be5d0",
   "metadata": {},
   "outputs": [
    {
     "data": {
      "text/plain": [
       "Text(0, 0.5, 'Mean Error')"
      ]
     },
     "execution_count": 12,
     "metadata": {},
     "output_type": "execute_result"
    },
    {
     "data": {
      "image/png": "[encoded data removed]",
      "text/plain": [
       "<Figure size 1200x600 with 1 Axes>"
      ]
     },
     "metadata": {},
     "output_type": "display_data"
    }
   ],
   "source": [
    "plt.figure(figsize=(12, 6))\n",
    "plt.plot(range(1, 51), errors, color='red', linestyle='dashed', marker='o',\n",
    "         markerfacecolor='blue', markersize=10)\n",
    "plt.title('Error Rate K Value')\n",
    "plt.xlabel('K Value')\n",
    "plt.ylabel('Mean Error')"
   ]
  },
  {
   "cell_type": "code",
   "execution_count": 13,
   "id": "109685b5-e034-42d3-a1c6-d2c7d8d56f90",
   "metadata": {},
   "outputs": [
    {
     "data": {
      "text/html": [
       "<style>#sk-container-id-1 {color: black;background-color: white;}#sk-container-id-1 pre{padding: 0;}#sk-container-id-1 div.sk-toggleable {background-color: white;}#sk-container-id-1 label.sk-toggleable__label {cursor: pointer;display: block;width: 100%;margin-bottom: 0;padding: 0.3em;box-sizing: border-box;text-align: center;}#sk-container-id-1 label.sk-toggleable__label-arrow:before {content: \"▸\";float: left;margin-right: 0.25em;color: #696969;}#sk-container-id-1 label.sk-toggleable__label-arrow:hover:before {color: black;}#sk-container-id-1 div.sk-estimator:hover label.sk-toggleable__label-arrow:before {color: black;}#sk-container-id-1 div.sk-toggleable__content {max-height: 0;max-width: 0;overflow: hidden;text-align: left;background-color: #f0f8ff;}#sk-container-id-1 div.sk-toggleable__content pre {margin: 0.2em;color: black;border-radius: 0.25em;background-color: #f0f8ff;}#sk-container-id-1 input.sk-toggleable__control:checked~div.sk-toggleable__content {max-height: 200px;max-width: 100%;overflow: auto;}#sk-container-id-1 input.sk-toggleable__control:checked~label.sk-toggleable__label-arrow:before {content: \"▾\";}#sk-container-id-1 div.sk-estimator input.sk-toggleable__control:checked~label.sk-toggleable__label {background-color: #d4ebff;}#sk-container-id-1 div.sk-label input.sk-toggleable__control:checked~label.sk-toggleable__label {background-color: #d4ebff;}#sk-container-id-1 input.sk-hidden--visually {border: 0;clip: rect(1px 1px 1px 1px);clip: rect(1px, 1px, 1px, 1px);height: 1px;margin: -1px;overflow: hidden;padding: 0;position: absolute;width: 1px;}#sk-container-id-1 div.sk-estimator {font-family: monospace;background-color: #f0f8ff;border: 1px dotted black;border-radius: 0.25em;box-sizing: border-box;margin-bottom: 0.5em;}#sk-container-id-1 div.sk-estimator:hover {background-color: #d4ebff;}#sk-container-id-1 div.sk-parallel-item::after {content: \"\";width: 100%;border-bottom: 1px solid gray;flex-grow: 1;}#sk-container-id-1 div.sk-label:hover label.sk-toggleable__label {background-color: #d4ebff;}#sk-container-id-1 div.sk-serial::before {content: \"\";position: absolute;border-left: 1px solid gray;box-sizing: border-box;top: 0;bottom: 0;left: 50%;z-index: 0;}#sk-container-id-1 div.sk-serial {display: flex;flex-direction: column;align-items: center;background-color: white;padding-right: 0.2em;padding-left: 0.2em;position: relative;}#sk-container-id-1 div.sk-item {position: relative;z-index: 1;}#sk-container-id-1 div.sk-parallel {display: flex;align-items: stretch;justify-content: center;background-color: white;position: relative;}#sk-container-id-1 div.sk-item::before, #sk-container-id-1 div.sk-parallel-item::before {content: \"\";position: absolute;border-left: 1px solid gray;box-sizing: border-box;top: 0;bottom: 0;left: 50%;z-index: -1;}#sk-container-id-1 div.sk-parallel-item {display: flex;flex-direction: column;z-index: 1;position: relative;background-color: white;}#sk-container-id-1 div.sk-parallel-item:first-child::after {align-self: flex-end;width: 50%;}#sk-container-id-1 div.sk-parallel-item:last-child::after {align-self: flex-start;width: 50%;}#sk-container-id-1 div.sk-parallel-item:only-child::after {width: 0;}#sk-container-id-1 div.sk-dashed-wrapped {border: 1px dashed gray;margin: 0 0.4em 0.5em 0.4em;box-sizing: border-box;padding-bottom: 0.4em;background-color: white;}#sk-container-id-1 div.sk-label label {font-family: monospace;font-weight: bold;display: inline-block;line-height: 1.2em;}#sk-container-id-1 div.sk-label-container {text-align: center;}#sk-container-id-1 div.sk-container {/* jupyter's `normalize.less` sets `[hidden] { display: none; }` but bootstrap.min.css set `[hidden] { display: none !important; }` so we also need the `!important` here to be able to override the default hidden behavior on the sphinx rendered scikit-learn.org. See: https://github.com/scikit-learn/scikit-learn/issues/21755 */display: inline-block !important;position: relative;}#sk-container-id-1 div.sk-text-repr-fallback {display: none;}</style><div id=\"sk-container-id-1\" class=\"sk-top-container\"><div class=\"sk-text-repr-fallback\"><pre>KNeighborsClassifier(metric=&#x27;euclidean&#x27;, n_neighbors=1)</pre><b>In a Jupyter environment, please rerun this cell to show the HTML representation or trust the notebook. <br />On GitHub, the HTML representation is unable to render, please try loading this page with nbviewer.org.</b></div><div class=\"sk-container\" hidden><div class=\"sk-item\"><div class=\"sk-estimator sk-toggleable\"><input class=\"sk-toggleable__control sk-hidden--visually\" id=\"sk-estimator-id-1\" type=\"checkbox\" checked><label for=\"sk-estimator-id-1\" class=\"sk-toggleable__label sk-toggleable__label-arrow\">KNeighborsClassifier</label><div class=\"sk-toggleable__content\"><pre>KNeighborsClassifier(metric=&#x27;euclidean&#x27;, n_neighbors=1)</pre></div></div></div></div></div>"
      ],
      "text/plain": [
       "KNeighborsClassifier(metric='euclidean', n_neighbors=1)"
      ]
     },
     "execution_count": 13,
     "metadata": {},
     "output_type": "execute_result"
    }
   ],
   "source": [
    "knn = KNeighborsClassifier(n_neighbors=1,metric='euclidean')\n",
    "\n",
    "knn.fit(X_train, y_train)"
   ]
  },
  {
   "cell_type": "code",
   "execution_count": 14,
   "id": "be59119a-ec0e-4ee8-8c59-46445b96c786",
   "metadata": {},
   "outputs": [
    {
     "data": {
      "text/plain": [
       "0.9166666666666666"
      ]
     },
     "execution_count": 14,
     "metadata": {},
     "output_type": "execute_result"
    }
   ],
   "source": [
    "y_pred = knn.predict(X_test)\n",
    "knn.score(X_test, y_test) #fining Accuracy = (correct/total)"
   ]
  },
  {
   "cell_type": "code",
   "execution_count": 15,
   "id": "62d98e05-9b28-4ec9-9364-2b65f652861a",
   "metadata": {},
   "outputs": [],
   "source": [
    "#we are more interest into f1 score harmonic mean of precision and recall\n",
    "from sklearn.metrics import confusion_matrix, f1_score\n",
    "from sklearn.metrics import classification_report, precision_score, recall_score\n",
    "from sklearn.metrics import ConfusionMatrixDisplay"
   ]
  },
  {
   "cell_type": "code",
   "execution_count": 16,
   "id": "84304eba-51f2-4aa6-b630-565a98b6d6a2",
   "metadata": {},
   "outputs": [
    {
     "data": {
      "text/plain": [
       "array([[483,  91],\n",
       "       [  4, 562]], dtype=int64)"
      ]
     },
     "execution_count": 16,
     "metadata": {},
     "output_type": "execute_result"
    }
   ],
   "source": [
    "cm = confusion_matrix(y_test, y_pred, labels=knn.classes_)\n",
    "cm"
   ]
  },
  {
   "cell_type": "code",
   "execution_count": 17,
   "id": "8ea0bddb-ce67-4362-b60f-ed164542bca5",
   "metadata": {},
   "outputs": [
    {
     "data": {
      "text/plain": [
       "<sklearn.metrics._plot.confusion_matrix.ConfusionMatrixDisplay at 0x1b54b54a470>"
      ]
     },
     "execution_count": 17,
     "metadata": {},
     "output_type": "execute_result"
    },
    {
     "data": {
      "image/png": "[encoded data removed]",
      "text/plain": [
       "<Figure size 640x480 with 2 Axes>"
      ]
     },
     "metadata": {},
     "output_type": "display_data"
    }
   ],
   "source": [
    "disp = ConfusionMatrixDisplay(cm , display_labels = knn.classes_ )\n",
    "disp.plot()\n",
    "\n",
    "#p = tp/tp+fp\n",
    "#r = tp/tp+fn\n",
    "#f1-score = 2xpxr/p+r"
   ]
  },
  {
   "cell_type": "code",
   "execution_count": 18,
   "id": "b424bafb-2a88-44bf-96e9-6068c3d0dca0",
   "metadata": {},
   "outputs": [
    {
     "name": "stdout",
     "output_type": "stream",
     "text": [
      "              precision    recall  f1-score   support\n",
      "\n",
      "           0       0.99      0.84      0.91       574\n",
      "           1       0.86      0.99      0.92       566\n",
      "\n",
      "    accuracy                           0.92      1140\n",
      "   macro avg       0.93      0.92      0.92      1140\n",
      "weighted avg       0.93      0.92      0.92      1140\n",
      "\n"
     ]
    }
   ],
   "source": [
    "#accuracy mislead us when we have imbalance so we should rely on the f1-score; \n",
    "#the harmonic mean of precsion and recall\n",
    "print(classification_report(y_test, y_pred))"
   ]
  },
  {
   "cell_type": "code",
   "execution_count": 29,
   "id": "9eb83000-846c-4b61-87b1-82caa6c9545b",
   "metadata": {},
   "outputs": [
    {
     "name": "stdout",
     "output_type": "stream",
     "text": [
      "0.8842039018250473\n",
      "0.9633184778882413\n"
     ]
    }
   ],
   "source": [
    "from sklearn.metrics import fbeta_score\n",
    "print(fbeta_score(y_test, y_pred, beta = 0.5)) #precision is important\n",
    "print(fbeta_score(y_test, y_pred, beta = 2)) #recall is important"
   ]
  },
  {
   "attachments": {},
   "cell_type": "markdown",
   "id": "c3a3c0b4",
   "metadata": {},
   "source": [
    "Handling Class Imbalance using Logistic Regression"
   ]
  },
  {
   "cell_type": "code",
   "execution_count": 22,
   "id": "f0fffe15-c79d-480a-9421-652e1efa4c3f",
   "metadata": {},
   "outputs": [
    {
     "data": {
      "image/png": "[encoded data removed]",
      "text/plain": [
       "<Figure size 640x480 with 1 Axes>"
      ]
     },
     "metadata": {},
     "output_type": "display_data"
    }
   ],
   "source": [
    "from sklearn.linear_model import LogisticRegression\n",
    "from sklearn.pipeline import make_pipeline\n",
    "from sklearn.metrics import f1_score\n",
    "from sklearn.preprocessing import StandardScaler\n",
    "\n",
    "train_scores = []\n",
    "val_scores = []\n",
    "scaler = StandardScaler()\n",
    "l = 0.01\n",
    "h = 50.0\n",
    "d = 0.5\n",
    "\n",
    "for la in np.arange(l,h,d):\n",
    "  scaled_lr = make_pipeline( scaler, LogisticRegression(C=1/la))\n",
    "  scaled_lr.fit(X_train, y_train)\n",
    "  train_y_pred = scaled_lr.predict(X_train)\n",
    "  val_y_pred = scaled_lr.predict(X_val)\n",
    "  train_score = f1_score(y_train, train_y_pred)\n",
    "  val_score = f1_score(y_val, val_y_pred)\n",
    "  train_scores.append(train_score)\n",
    "  val_scores.append(val_score)\n",
    "\n",
    "plt.figure()\n",
    "plt.plot(list(np.arange(l,h,d)), train_scores, label=\"train\")\n",
    "plt.plot(list(np.arange(l,h,d)), val_scores, label=\"val\")\n",
    "plt.legend(loc='lower right')\n",
    "plt.xlabel(\"lambda\")\n",
    "plt.ylabel(\"F1-Score\")\n",
    "plt.grid()\n",
    "plt.show()"
   ]
  },
  {
   "cell_type": "code",
   "execution_count": 23,
   "id": "70b8cfb6-a73a-413c-85b5-52354cb8be2c",
   "metadata": {},
   "outputs": [
    {
     "data": {
      "image/png": "[encoded data removed]",
      "text/plain": [
       "<Figure size 640x480 with 1 Axes>"
      ]
     },
     "metadata": {},
     "output_type": "display_data"
    }
   ],
   "source": [
    "from sklearn.linear_model import LogisticRegression\n",
    "from sklearn.pipeline import make_pipeline\n",
    "from sklearn.metrics import f1_score\n",
    "from sklearn.preprocessing import StandardScaler\n",
    "\n",
    "train_scores = []\n",
    "val_scores = []\n",
    "scaler = StandardScaler()\n",
    "l = 0.01\n",
    "h = 50.0\n",
    "d = 0.5\n",
    "\n",
    "for la in np.arange(l,h,d):\n",
    "  scaled_lr = make_pipeline( scaler, LogisticRegression(C=1/la,class_weight=({0:1,1:6})))\n",
    "  scaled_lr.fit(X_train, y_train)\n",
    "  train_y_pred = scaled_lr.predict(X_train)\n",
    "  val_y_pred = scaled_lr.predict(X_val)\n",
    "  train_score = f1_score(y_train, train_y_pred)\n",
    "  val_score = f1_score(y_val, val_y_pred)\n",
    "  train_scores.append(train_score)\n",
    "  val_scores.append(val_score)\n",
    "\n",
    "plt.figure()\n",
    "plt.plot(list(np.arange(l,h,d)), train_scores, label=\"train\")\n",
    "plt.plot(list(np.arange(l,h,d)), val_scores, label=\"val\")\n",
    "plt.legend(loc='lower right')\n",
    "plt.xlabel(\"lambda\")\n",
    "plt.ylabel(\"F1-Score\")\n",
    "plt.grid()\n",
    "plt.show()"
   ]
  },
  {
   "cell_type": "code",
   "execution_count": 24,
   "id": "aecc6b6f-37ad-46fa-9ded-2df949807adb",
   "metadata": {},
   "outputs": [
    {
     "name": "stdout",
     "output_type": "stream",
     "text": [
      "0.7090216010165183\n"
     ]
    }
   ],
   "source": [
    "best_idx = np.argmax(val_scores)\n",
    "print(val_scores[best_idx])"
   ]
  },
  {
   "cell_type": "code",
   "execution_count": 25,
   "id": "3caf8b34-6c99-482e-93a8-62c6416f2ad7",
   "metadata": {},
   "outputs": [
    {
     "data": {
      "text/plain": [
       "0"
      ]
     },
     "execution_count": 25,
     "metadata": {},
     "output_type": "execute_result"
    }
   ],
   "source": [
    "best_idx"
   ]
  },
  {
   "cell_type": "code",
   "execution_count": 26,
   "id": "07ddc68a-a29b-4f5a-a364-75b2b467c8f7",
   "metadata": {},
   "outputs": [
    {
     "name": "stdout",
     "output_type": "stream",
     "text": [
      "0.6993710691823899\n"
     ]
    }
   ],
   "source": [
    "# Model with lambda_best\n",
    "best_idx = np.argmax(val_scores)\n",
    "l_best = l+d*best_idx\n",
    "scaled_lr = make_pipeline( scaler, LogisticRegression(C=1/l_best, class_weight={ 0:1, 1:6 }))\n",
    "scaled_lr.fit(X_train, y_train)\n",
    "\n",
    "y_pred_test = scaled_lr.predict(X_test)\n",
    "test_score = f1_score(y_test, y_pred_test)\n",
    "\n",
    "print(test_score)"
   ]
  },
  {
   "cell_type": "code",
   "execution_count": 27,
   "id": "f7ee3655-ab67-4136-8ff7-30de408288df",
   "metadata": {},
   "outputs": [
    {
     "name": "stdout",
     "output_type": "stream",
     "text": [
      "              precision    recall  f1-score   support\n",
      "\n",
      "           0       0.91      0.18      0.31       574\n",
      "           1       0.54      0.98      0.70       566\n",
      "\n",
      "    accuracy                           0.58      1140\n",
      "   macro avg       0.73      0.58      0.50      1140\n",
      "weighted avg       0.73      0.58      0.50      1140\n",
      "\n"
     ]
    }
   ],
   "source": [
    "print(classification_report(y_test, y_pred_test))"
   ]
  },
  {
   "cell_type": "markdown",
   "id": "11adfc48",
   "metadata": {},
   "source": [
    "Sampling of Imbalance Dataset"
   ]
  },
  {
   "cell_type": "code",
   "execution_count": 30,
   "id": "6a04e663-37dc-4b17-a9d7-447f283a2132",
   "metadata": {},
   "outputs": [
    {
     "ename": "ModuleNotFoundError",
     "evalue": "No module named 'imblearn'",
     "output_type": "error",
     "traceback": [
      "\u001b[1;31m---------------------------------------------------------------------------\u001b[0m",
      "\u001b[1;31mModuleNotFoundError\u001b[0m                       Traceback (most recent call last)",
      "Cell \u001b[1;32mIn[30], line 1\u001b[0m\n\u001b[1;32m----> 1\u001b[0m \u001b[39mfrom\u001b[39;00m \u001b[39mimblearn\u001b[39;00m\u001b[39m.\u001b[39;00m\u001b[39mover_sampling\u001b[39;00m \u001b[39mimport\u001b[39;00m SMOTE\n\u001b[0;32m      2\u001b[0m \u001b[39mfrom\u001b[39;00m \u001b[39mcollections\u001b[39;00m \u001b[39mimport\u001b[39;00m Counter\n",
      "\u001b[1;31mModuleNotFoundError\u001b[0m: No module named 'imblearn'"
     ]
    }
   ],
   "source": [
    "from imblearn.over_sampling import SMOTE\n",
    "from collections import Counter\n"
   ]
  },
  {
   "cell_type": "code",
   "execution_count": null,
   "id": "3a477a6c-3acd-42ea-9e26-d20feb7074a9",
   "metadata": {},
   "outputs": [
    {
     "name": "stdout",
     "output_type": "stream",
     "text": [
      "Resampled dataset shape Counter({0: 1718, 1: 859})\n"
     ]
    }
   ],
   "source": [
    "smt = SMOTE(sampling_strategy=0.5) #by defalut at Auto but this is also a hyperpatameter that is need to find to improve our model metrics\n",
    "X_sm, y_sm = smt.fit_resample(X_train, y_train)\n",
    "\n",
    "print('Resampled dataset shape {}'.format(Counter(y_sm)))"
   ]
  },
  {
   "cell_type": "code",
   "execution_count": null,
   "id": "0210bb31-e62b-4302-b755-fb65494e02d4",
   "metadata": {},
   "outputs": [
    {
     "data": {
      "image/png": "[encoded data removed]",
      "text/plain": [
       "<Figure size 432x288 with 1 Axes>"
      ]
     },
     "metadata": {
      "needs_background": "light"
     },
     "output_type": "display_data"
    }
   ],
   "source": [
    "from sklearn.linear_model import LogisticRegression\n",
    "from sklearn.pipeline import make_pipeline\n",
    "\n",
    "\n",
    "train_scores = []\n",
    "val_scores = []\n",
    "scaler = StandardScaler()\n",
    "l = 0.01\n",
    "h = 50.0\n",
    "d = 0.05\n",
    "\n",
    "for la in np.arange(l,h,d):\n",
    "  scaled_lr = make_pipeline( scaler, LogisticRegression(C=1/la))\n",
    "  scaled_lr.fit(X_sm, y_sm)\n",
    "  train_score = f1_score(y_sm, scaled_lr.predict(X_sm))\n",
    "  val_score = f1_score(y_val, scaled_lr.predict(X_val))\n",
    "  train_scores.append(train_score)\n",
    "  val_scores.append(val_score)\n",
    "\n",
    "plt.figure()\n",
    "plt.plot(list(np.arange(l,h,d)), train_scores, label=\"train\")\n",
    "plt.plot(list(np.arange(l,h,d)), val_scores, label=\"val\")\n",
    "plt.legend(loc='lower right')\n",
    "plt.xlabel(\"lambda\")\n",
    "plt.ylabel(\"F1 Score\")\n",
    "plt.grid()\n",
    "plt.show()"
   ]
  },
  {
   "cell_type": "code",
   "execution_count": null,
   "id": "ad353f2a-0b54-4feb-a661-80fbbeb3c94a",
   "metadata": {},
   "outputs": [
    {
     "name": "stdout",
     "output_type": "stream",
     "text": [
      "0.537037037037037\n"
     ]
    }
   ],
   "source": [
    "# Model with lambda_best\n",
    "best_idx = np.argmax(val_scores)\n",
    "l_best = l+d*best_idx\n",
    "scaled_lr = make_pipeline( scaler, LogisticRegression(C=1/l_best))\n",
    "scaled_lr.fit(X_sm, y_sm)\n",
    "\n",
    "y_pred_test = scaled_lr.predict(X_test)\n",
    "test_score = f1_score(y_test, y_pred_test)\n",
    "\n",
    "print(test_score)"
   ]
  },
  {
   "cell_type": "code",
   "execution_count": 31,
   "id": "b3405fd8-5cd4-4824-8242-686ba312c228",
   "metadata": {},
   "outputs": [
    {
     "name": "stdout",
     "output_type": "stream",
     "text": [
      "              precision    recall  f1-score   support\n",
      "\n",
      "           0       0.91      0.18      0.31       574\n",
      "           1       0.54      0.98      0.70       566\n",
      "\n",
      "    accuracy                           0.58      1140\n",
      "   macro avg       0.73      0.58      0.50      1140\n",
      "weighted avg       0.73      0.58      0.50      1140\n",
      "\n"
     ]
    }
   ],
   "source": [
    "print(classification_report(y_test, y_pred_test)) #good balance between precision and recall slighly more in recall."
   ]
  },
  {
   "cell_type": "code",
   "execution_count": null,
   "id": "ce7aa3e5-4032-4a1e-bbc9-b2d27e811b7b",
   "metadata": {},
   "outputs": [],
   "source": [
    "f2 = fbeta_score(y_test,y_pred_test,beta=2)\n",
    "f0 = fbeta_score(y_test,y_pred_test,beta=0.5)"
   ]
  },
  {
   "cell_type": "code",
   "execution_count": null,
   "id": "c89b9bcd-f9e1-4daa-9512-5833466c1c46",
   "metadata": {},
   "outputs": [
    {
     "name": "stdout",
     "output_type": "stream",
     "text": [
      "0.5587668593448939 0.516934046345811\n"
     ]
    }
   ],
   "source": [
    "print(f2, f0)"
   ]
  },
  {
   "attachments": {},
   "cell_type": "markdown",
   "id": "38481666-cfaf-49b5-812e-2743bac377fd",
   "metadata": {},
   "source": [
    "Type of model <br>\n",
    "-balance between precision and recall <br>\n",
    "-better recall <br>\n",
    "-better precision <br>\n",
    "example we have seen above"
   ]
  },
  {
   "cell_type": "markdown",
   "id": "c5068a0d",
   "metadata": {},
   "source": []
  }
 ],
 "metadata": {
  "kernelspec": {
   "display_name": "Python 3",
   "language": "python",
   "name": "python3"
  },
  "language_info": {
   "codemirror_mode": {
    "name": "ipython",
    "version": 3
   },
   "file_extension": ".py",
   "mimetype": "text/x-python",
   "name": "python",
   "nbconvert_exporter": "python",
   "pygments_lexer": "ipython3",
   "version": "3.10.9"
  },
  "vscode": {
   "interpreter": {
    "hash": "f8048d823ac758c079b9f29ef30bbbc9b1138746b4add2d8fb5759ec4a242e2c"
   }
  }
 },
 "nbformat": 4,
 "nbformat_minor": 5
}
