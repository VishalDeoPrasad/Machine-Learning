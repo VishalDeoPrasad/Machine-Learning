{
 "cells": [
  {
   "attachments": {},
   "cell_type": "markdown",
   "metadata": {},
   "source": [
    "Eculedian Distance"
   ]
  },
  {
   "cell_type": "code",
   "execution_count": 2,
   "metadata": {},
   "outputs": [],
   "source": [
    "import numpy as np\n",
    "query_point = [5,10,15]\n",
    "x_array = [[4, 13, 2], [9, 8, 11], [14, 4, 2], [4, 12, 1], [2, 8, 3]]\n",
    "\n",
    "query_point = np.array(query_point)\n",
    "x_array = np.array(x_array)"
   ]
  },
  {
   "cell_type": "code",
   "execution_count": 12,
   "metadata": {},
   "outputs": [
    {
     "name": "stdout",
     "output_type": "stream",
     "text": [
      "[ 1 -3 13]\n",
      "[  1   9 169]\n",
      "179\n"
     ]
    },
    {
     "data": {
      "text/plain": [
       "13.379088160259652"
      ]
     },
     "execution_count": 12,
     "metadata": {},
     "output_type": "execute_result"
    }
   ],
   "source": [
    "#testing some results\n",
    "import math\n",
    "print(query_point - x_array[0])\n",
    "print((query_point - x_array[0])**2)\n",
    "print(sum((query_point - x_array[0])**2))\n",
    "print(math.sqrt(sum((query_point - x_array[0])**2)))\n"
   ]
  },
  {
   "cell_type": "code",
   "execution_count": 19,
   "metadata": {},
   "outputs": [
    {
     "data": {
      "text/plain": [
       "[13.38, 6.0, 16.91, 14.18, 12.53]"
      ]
     },
     "execution_count": 19,
     "metadata": {},
     "output_type": "execute_result"
    }
   ],
   "source": [
    "eucledian_dist = []\n",
    "for i in range(len(x_array)):\n",
    "    eucledian_dist.append(round(math.sqrt(sum((query_point - x_array[i])**2)), 2))\n",
    "eucledian_dist"
   ]
  },
  {
   "cell_type": "code",
   "execution_count": 10,
   "metadata": {},
   "outputs": [
    {
     "data": {
      "text/plain": [
       "13.379088160259652"
      ]
     },
     "execution_count": 10,
     "metadata": {},
     "output_type": "execute_result"
    }
   ],
   "source": [
    "import math\n",
    "def EculedianDistance(p1, p2):\n",
    "    dist = math.sqrt(pow((p1[0]-p2[0]), 2) + pow((p1[1]-p2[1]), 2) + pow((p1[2]-p2[2]), 2))\n",
    "    return dist\n",
    "p1 = [5, 10, 15]\n",
    "p2 = [4, 13, 2]\n",
    "EculedianDistance(p1, p2)"
   ]
  },
  {
   "cell_type": "code",
   "execution_count": null,
   "metadata": {},
   "outputs": [],
   "source": [
    "import math\n",
    "import numpy as np\n",
    "def EculedianDistance(p1, p2):\n",
    "    p1 = np.array(p1)\n",
    "    p2 = np.array(p2)\n",
    "    dist = math.sqrt(pow((p1[0]-p2[0]), 2) + pow((p1[1]-p2[1]), 2) + pow((p1[2]-p2[2]), 2))\n",
    "    return dist\n",
    "p1 = [5, 10, 15]\n",
    "p2 = [4, 13, 2]\n",
    "EculedianDistance(p1, p2)"
   ]
  },
  {
   "cell_type": "code",
   "execution_count": 11,
   "metadata": {},
   "outputs": [
    {
     "data": {
      "image/png": "[encoded data removed]",
      "text/plain": [
       "<IPython.core.display.Image object>"
      ]
     },
     "execution_count": 11,
     "metadata": {},
     "output_type": "execute_result"
    }
   ],
   "source": [
    "image_path = r'C:\\Users\\visha\\OneDrive\\Scaler Academy\\Machine-Learning\\euclidean-distance.png'\n",
    "%matplotlib inline\n",
    "from IPython.display import Image\n",
    "Image(image_path)"
   ]
  },
  {
   "attachments": {},
   "cell_type": "markdown",
   "metadata": {},
   "source": [
    "Manhattan distance"
   ]
  },
  {
   "cell_type": "code",
   "execution_count": 13,
   "metadata": {},
   "outputs": [
    {
     "data": {
      "text/plain": [
       "17"
      ]
     },
     "execution_count": 13,
     "metadata": {},
     "output_type": "execute_result"
    }
   ],
   "source": [
    "def ManhattanDistance(p1, p2):\n",
    "    dist = abs(p1[0]-p2[0])+ abs(p1[1]-p2[1]) + abs(p1[2]-p2[2])\n",
    "    return dist\n",
    "p1 = [5, 10, 15]\n",
    "p2 = [4, 13, 2]\n",
    "ManhattanDistance(p1, p2)\n"
   ]
  },
  {
   "cell_type": "code",
   "execution_count": 4,
   "metadata": {},
   "outputs": [
    {
     "data": {
      "text/plain": [
       "9"
      ]
     },
     "execution_count": 4,
     "metadata": {},
     "output_type": "execute_result"
    }
   ],
   "source": []
  }
 ],
 "metadata": {
  "kernelspec": {
   "display_name": "Python 3",
   "language": "python",
   "name": "python3"
  },
  "language_info": {
   "codemirror_mode": {
    "name": "ipython",
    "version": 3
   },
   "file_extension": ".py",
   "mimetype": "text/x-python",
   "name": "python",
   "nbconvert_exporter": "python",
   "pygments_lexer": "ipython3",
   "version": "3.10.9"
  },
  "orig_nbformat": 4,
  "vscode": {
   "interpreter": {
    "hash": "f8048d823ac758c079b9f29ef30bbbc9b1138746b4add2d8fb5759ec4a242e2c"
   }
  }
 },
 "nbformat": 4,
 "nbformat_minor": 2
}
