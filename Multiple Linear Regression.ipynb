{
 "cells": [
  {
   "cell_type": "code",
   "execution_count": 1,
   "id": "de127ae6",
   "metadata": {},
   "outputs": [],
   "source": [
    "import pandas as pd\n",
    "import numpy as np\n",
    "import seaborn as sns\n",
    "import matplotlib.pyplot as plt\n",
    "from sklearn.linear_model import LinearRegression\n",
    "from sklearn.model_selection import train_test_split"
   ]
  },
  {
   "cell_type": "code",
   "execution_count": 2,
   "id": "1b4db073",
   "metadata": {},
   "outputs": [
    {
     "data": {
      "text/html": [
       "<div>\n",
       "<style scoped>\n",
       "    .dataframe tbody tr th:only-of-type {\n",
       "        vertical-align: middle;\n",
       "    }\n",
       "\n",
       "    .dataframe tbody tr th {\n",
       "        vertical-align: top;\n",
       "    }\n",
       "\n",
       "    .dataframe thead th {\n",
       "        text-align: right;\n",
       "    }\n",
       "</style>\n",
       "<table border=\"1\" class=\"dataframe\">\n",
       "  <thead>\n",
       "    <tr style=\"text-align: right;\">\n",
       "      <th></th>\n",
       "      <th>selling_price</th>\n",
       "      <th>year</th>\n",
       "      <th>km_driven</th>\n",
       "      <th>mileage</th>\n",
       "      <th>engine</th>\n",
       "      <th>max_power</th>\n",
       "      <th>age</th>\n",
       "      <th>make</th>\n",
       "      <th>model</th>\n",
       "      <th>Individual</th>\n",
       "      <th>Trustmark Dealer</th>\n",
       "      <th>Diesel</th>\n",
       "      <th>Electric</th>\n",
       "      <th>LPG</th>\n",
       "      <th>Petrol</th>\n",
       "      <th>Manual</th>\n",
       "      <th>5</th>\n",
       "      <th>&gt;5</th>\n",
       "    </tr>\n",
       "  </thead>\n",
       "  <tbody>\n",
       "    <tr>\n",
       "      <th>0</th>\n",
       "      <td>-1.111046</td>\n",
       "      <td>-0.801317</td>\n",
       "      <td>1.195828</td>\n",
       "      <td>0.045745</td>\n",
       "      <td>-1.310754</td>\n",
       "      <td>-1.157780</td>\n",
       "      <td>0.801317</td>\n",
       "      <td>-0.433854</td>\n",
       "      <td>-1.125683</td>\n",
       "      <td>1.248892</td>\n",
       "      <td>-0.098382</td>\n",
       "      <td>-0.985275</td>\n",
       "      <td>-0.020095</td>\n",
       "      <td>-0.056917</td>\n",
       "      <td>1.024622</td>\n",
       "      <td>0.495818</td>\n",
       "      <td>0.444503</td>\n",
       "      <td>-0.424728</td>\n",
       "    </tr>\n",
       "    <tr>\n",
       "      <th>1</th>\n",
       "      <td>-0.223944</td>\n",
       "      <td>0.450030</td>\n",
       "      <td>-0.737872</td>\n",
       "      <td>-0.140402</td>\n",
       "      <td>-0.537456</td>\n",
       "      <td>-0.360203</td>\n",
       "      <td>-0.450030</td>\n",
       "      <td>-0.327501</td>\n",
       "      <td>-0.333227</td>\n",
       "      <td>1.248892</td>\n",
       "      <td>-0.098382</td>\n",
       "      <td>-0.985275</td>\n",
       "      <td>-0.020095</td>\n",
       "      <td>-0.056917</td>\n",
       "      <td>1.024622</td>\n",
       "      <td>0.495818</td>\n",
       "      <td>0.444503</td>\n",
       "      <td>-0.424728</td>\n",
       "    </tr>\n",
       "    <tr>\n",
       "      <th>2</th>\n",
       "      <td>-0.915058</td>\n",
       "      <td>-1.426990</td>\n",
       "      <td>0.035608</td>\n",
       "      <td>-0.582501</td>\n",
       "      <td>-0.537456</td>\n",
       "      <td>-0.404885</td>\n",
       "      <td>1.426990</td>\n",
       "      <td>-0.327501</td>\n",
       "      <td>-0.789807</td>\n",
       "      <td>1.248892</td>\n",
       "      <td>-0.098382</td>\n",
       "      <td>-0.985275</td>\n",
       "      <td>-0.020095</td>\n",
       "      <td>-0.056917</td>\n",
       "      <td>1.024622</td>\n",
       "      <td>0.495818</td>\n",
       "      <td>0.444503</td>\n",
       "      <td>-0.424728</td>\n",
       "    </tr>\n",
       "    <tr>\n",
       "      <th>3</th>\n",
       "      <td>-0.892365</td>\n",
       "      <td>-0.801317</td>\n",
       "      <td>-0.409143</td>\n",
       "      <td>0.329620</td>\n",
       "      <td>-0.921213</td>\n",
       "      <td>-0.693085</td>\n",
       "      <td>0.801317</td>\n",
       "      <td>-0.433854</td>\n",
       "      <td>-0.905265</td>\n",
       "      <td>1.248892</td>\n",
       "      <td>-0.098382</td>\n",
       "      <td>-0.985275</td>\n",
       "      <td>-0.020095</td>\n",
       "      <td>-0.056917</td>\n",
       "      <td>1.024622</td>\n",
       "      <td>0.495818</td>\n",
       "      <td>0.444503</td>\n",
       "      <td>-0.424728</td>\n",
       "    </tr>\n",
       "    <tr>\n",
       "      <th>4</th>\n",
       "      <td>-0.182683</td>\n",
       "      <td>0.137194</td>\n",
       "      <td>-0.544502</td>\n",
       "      <td>0.760085</td>\n",
       "      <td>0.042999</td>\n",
       "      <td>0.010435</td>\n",
       "      <td>-0.137194</td>\n",
       "      <td>-0.246579</td>\n",
       "      <td>-0.013096</td>\n",
       "      <td>-0.800710</td>\n",
       "      <td>-0.098382</td>\n",
       "      <td>1.014945</td>\n",
       "      <td>-0.020095</td>\n",
       "      <td>-0.056917</td>\n",
       "      <td>-0.975970</td>\n",
       "      <td>0.495818</td>\n",
       "      <td>0.444503</td>\n",
       "      <td>-0.424728</td>\n",
       "    </tr>\n",
       "  </tbody>\n",
       "</table>\n",
       "</div>"
      ],
      "text/plain": [
       "   selling_price      year  km_driven   mileage    engine  max_power  \\\n",
       "0      -1.111046 -0.801317   1.195828  0.045745 -1.310754  -1.157780   \n",
       "1      -0.223944  0.450030  -0.737872 -0.140402 -0.537456  -0.360203   \n",
       "2      -0.915058 -1.426990   0.035608 -0.582501 -0.537456  -0.404885   \n",
       "3      -0.892365 -0.801317  -0.409143  0.329620 -0.921213  -0.693085   \n",
       "4      -0.182683  0.137194  -0.544502  0.760085  0.042999   0.010435   \n",
       "\n",
       "        age      make     model  Individual  Trustmark Dealer    Diesel  \\\n",
       "0  0.801317 -0.433854 -1.125683    1.248892         -0.098382 -0.985275   \n",
       "1 -0.450030 -0.327501 -0.333227    1.248892         -0.098382 -0.985275   \n",
       "2  1.426990 -0.327501 -0.789807    1.248892         -0.098382 -0.985275   \n",
       "3  0.801317 -0.433854 -0.905265    1.248892         -0.098382 -0.985275   \n",
       "4 -0.137194 -0.246579 -0.013096   -0.800710         -0.098382  1.014945   \n",
       "\n",
       "   Electric       LPG    Petrol    Manual         5        >5  \n",
       "0 -0.020095 -0.056917  1.024622  0.495818  0.444503 -0.424728  \n",
       "1 -0.020095 -0.056917  1.024622  0.495818  0.444503 -0.424728  \n",
       "2 -0.020095 -0.056917  1.024622  0.495818  0.444503 -0.424728  \n",
       "3 -0.020095 -0.056917  1.024622  0.495818  0.444503 -0.424728  \n",
       "4 -0.020095 -0.056917 -0.975970  0.495818  0.444503 -0.424728  "
      ]
     },
     "execution_count": 2,
     "metadata": {},
     "output_type": "execute_result"
    }
   ],
   "source": [
    "df = pd.read_csv(r'C:\\Users\\visha\\OneDrive\\Scaler Academy\\Datasets\\cars24-car-price-clean.csv')\n",
    "df.head()"
   ]
  },
  {
   "cell_type": "code",
   "execution_count": 3,
   "id": "0b145110",
   "metadata": {},
   "outputs": [],
   "source": [
    "X = df[df.columns.drop('selling_price')]\n",
    "Y = df[\"selling_price\"]"
   ]
  },
  {
   "cell_type": "code",
   "execution_count": 4,
   "id": "236b4b6a",
   "metadata": {},
   "outputs": [],
   "source": [
    "x_train , x_test, y_train, y_test = train_test_split(X,Y, test_size=0.2, random_state=1)"
   ]
  },
  {
   "cell_type": "code",
   "execution_count": 5,
   "id": "d7f3e89d",
   "metadata": {},
   "outputs": [
    {
     "data": {
      "text/html": [
       "<style>#sk-container-id-1 {color: black;background-color: white;}#sk-container-id-1 pre{padding: 0;}#sk-container-id-1 div.sk-toggleable {background-color: white;}#sk-container-id-1 label.sk-toggleable__label {cursor: pointer;display: block;width: 100%;margin-bottom: 0;padding: 0.3em;box-sizing: border-box;text-align: center;}#sk-container-id-1 label.sk-toggleable__label-arrow:before {content: \"▸\";float: left;margin-right: 0.25em;color: #696969;}#sk-container-id-1 label.sk-toggleable__label-arrow:hover:before {color: black;}#sk-container-id-1 div.sk-estimator:hover label.sk-toggleable__label-arrow:before {color: black;}#sk-container-id-1 div.sk-toggleable__content {max-height: 0;max-width: 0;overflow: hidden;text-align: left;background-color: #f0f8ff;}#sk-container-id-1 div.sk-toggleable__content pre {margin: 0.2em;color: black;border-radius: 0.25em;background-color: #f0f8ff;}#sk-container-id-1 input.sk-toggleable__control:checked~div.sk-toggleable__content {max-height: 200px;max-width: 100%;overflow: auto;}#sk-container-id-1 input.sk-toggleable__control:checked~label.sk-toggleable__label-arrow:before {content: \"▾\";}#sk-container-id-1 div.sk-estimator input.sk-toggleable__control:checked~label.sk-toggleable__label {background-color: #d4ebff;}#sk-container-id-1 div.sk-label input.sk-toggleable__control:checked~label.sk-toggleable__label {background-color: #d4ebff;}#sk-container-id-1 input.sk-hidden--visually {border: 0;clip: rect(1px 1px 1px 1px);clip: rect(1px, 1px, 1px, 1px);height: 1px;margin: -1px;overflow: hidden;padding: 0;position: absolute;width: 1px;}#sk-container-id-1 div.sk-estimator {font-family: monospace;background-color: #f0f8ff;border: 1px dotted black;border-radius: 0.25em;box-sizing: border-box;margin-bottom: 0.5em;}#sk-container-id-1 div.sk-estimator:hover {background-color: #d4ebff;}#sk-container-id-1 div.sk-parallel-item::after {content: \"\";width: 100%;border-bottom: 1px solid gray;flex-grow: 1;}#sk-container-id-1 div.sk-label:hover label.sk-toggleable__label {background-color: #d4ebff;}#sk-container-id-1 div.sk-serial::before {content: \"\";position: absolute;border-left: 1px solid gray;box-sizing: border-box;top: 0;bottom: 0;left: 50%;z-index: 0;}#sk-container-id-1 div.sk-serial {display: flex;flex-direction: column;align-items: center;background-color: white;padding-right: 0.2em;padding-left: 0.2em;position: relative;}#sk-container-id-1 div.sk-item {position: relative;z-index: 1;}#sk-container-id-1 div.sk-parallel {display: flex;align-items: stretch;justify-content: center;background-color: white;position: relative;}#sk-container-id-1 div.sk-item::before, #sk-container-id-1 div.sk-parallel-item::before {content: \"\";position: absolute;border-left: 1px solid gray;box-sizing: border-box;top: 0;bottom: 0;left: 50%;z-index: -1;}#sk-container-id-1 div.sk-parallel-item {display: flex;flex-direction: column;z-index: 1;position: relative;background-color: white;}#sk-container-id-1 div.sk-parallel-item:first-child::after {align-self: flex-end;width: 50%;}#sk-container-id-1 div.sk-parallel-item:last-child::after {align-self: flex-start;width: 50%;}#sk-container-id-1 div.sk-parallel-item:only-child::after {width: 0;}#sk-container-id-1 div.sk-dashed-wrapped {border: 1px dashed gray;margin: 0 0.4em 0.5em 0.4em;box-sizing: border-box;padding-bottom: 0.4em;background-color: white;}#sk-container-id-1 div.sk-label label {font-family: monospace;font-weight: bold;display: inline-block;line-height: 1.2em;}#sk-container-id-1 div.sk-label-container {text-align: center;}#sk-container-id-1 div.sk-container {/* jupyter's `normalize.less` sets `[hidden] { display: none; }` but bootstrap.min.css set `[hidden] { display: none !important; }` so we also need the `!important` here to be able to override the default hidden behavior on the sphinx rendered scikit-learn.org. See: https://github.com/scikit-learn/scikit-learn/issues/21755 */display: inline-block !important;position: relative;}#sk-container-id-1 div.sk-text-repr-fallback {display: none;}</style><div id=\"sk-container-id-1\" class=\"sk-top-container\"><div class=\"sk-text-repr-fallback\"><pre>LinearRegression()</pre><b>In a Jupyter environment, please rerun this cell to show the HTML representation or trust the notebook. <br />On GitHub, the HTML representation is unable to render, please try loading this page with nbviewer.org.</b></div><div class=\"sk-container\" hidden><div class=\"sk-item\"><div class=\"sk-estimator sk-toggleable\"><input class=\"sk-toggleable__control sk-hidden--visually\" id=\"sk-estimator-id-1\" type=\"checkbox\" checked><label for=\"sk-estimator-id-1\" class=\"sk-toggleable__label sk-toggleable__label-arrow\">LinearRegression</label><div class=\"sk-toggleable__content\"><pre>LinearRegression()</pre></div></div></div></div></div>"
      ],
      "text/plain": [
       "LinearRegression()"
      ]
     },
     "execution_count": 5,
     "metadata": {},
     "output_type": "execute_result"
    }
   ],
   "source": [
    "model_mlr= LinearRegression()\n",
    "model_mlr.fit(x_train, y_train)"
   ]
  },
  {
   "cell_type": "code",
   "execution_count": 6,
   "id": "5be8de35",
   "metadata": {},
   "outputs": [
    {
     "data": {
      "text/plain": [
       "0.9468679437299327"
      ]
     },
     "execution_count": 6,
     "metadata": {},
     "output_type": "execute_result"
    }
   ],
   "source": [
    "model_mlr.score(x_train, y_train) #Finding R2 score for Train data\n",
    "model_mlr.score(x_test, y_test)   #Finding R2 score for Test data"
   ]
  },
  {
   "cell_type": "code",
   "execution_count": 11,
   "id": "72c620bb",
   "metadata": {},
   "outputs": [
    {
     "name": "stdout",
     "output_type": "stream",
     "text": [
      "-0.0012230882390132385\n",
      "[-6.10815805e+10 -1.68609619e-02 -4.93460787e-02  3.04310066e-02\n",
      "  2.81716044e-02 -6.10815805e+10  6.05538409e-02  7.89499823e-01\n",
      " -1.75912819e-02 -2.91802526e-03  1.41370319e-02  1.29601367e-02\n",
      "  2.00019447e-03 -2.35503123e-02 -1.32211909e-02 -2.86087644e-02\n",
      " -3.60378969e-02]\n"
     ]
    }
   ],
   "source": [
    "print(model_mlr.intercept_)\n",
    "print(model_mlr.coef_)"
   ]
  },
  {
   "cell_type": "code",
   "execution_count": 13,
   "id": "bd4e8f62",
   "metadata": {},
   "outputs": [
    {
     "data": {
      "text/plain": [
       "<seaborn.axisgrid.FacetGrid at 0x1ac686989a0>"
      ]
     },
     "execution_count": 13,
     "metadata": {},
     "output_type": "execute_result"
    },
    {
     "data": {
      "image/png": "[encoded data removed]",
      "text/plain": [
       "<Figure size 500x500 with 1 Axes>"
      ]
     },
     "metadata": {},
     "output_type": "display_data"
    }
   ],
   "source": [
    "y_hat = model_mlr.predict(x_test)\n",
    "error = y_test - y_hat\n",
    "sns.displot(error, kind = 'kde')"
   ]
  },
  {
   "cell_type": "code",
   "execution_count": 14,
   "id": "492cdae3",
   "metadata": {},
   "outputs": [
    {
     "data": {
      "text/plain": [
       "0.005699795987965588"
      ]
     },
     "execution_count": 14,
     "metadata": {},
     "output_type": "execute_result"
    }
   ],
   "source": [
    "np.mean(error)"
   ]
  },
  {
   "cell_type": "code",
   "execution_count": 15,
   "id": "8057baa2",
   "metadata": {},
   "outputs": [
    {
     "data": {
      "text/plain": [
       "0.054180618085069104"
      ]
     },
     "execution_count": 15,
     "metadata": {},
     "output_type": "execute_result"
    }
   ],
   "source": [
    "from sklearn.metrics import mean_squared_error\n",
    "mean_squared_error(y_test, y_hat)  #1\\n sum(y-y^)**2"
   ]
  }
 ],
 "metadata": {
  "kernelspec": {
   "display_name": "Python 3",
   "language": "python",
   "name": "python3"
  },
  "language_info": {
   "codemirror_mode": {
    "name": "ipython",
    "version": 3
   },
   "file_extension": ".py",
   "mimetype": "text/x-python",
   "name": "python",
   "nbconvert_exporter": "python",
   "pygments_lexer": "ipython3",
   "version": "3.10.9"
  },
  "vscode": {
   "interpreter": {
    "hash": "f8048d823ac758c079b9f29ef30bbbc9b1138746b4add2d8fb5759ec4a242e2c"
   }
  }
 },
 "nbformat": 4,
 "nbformat_minor": 5
}
